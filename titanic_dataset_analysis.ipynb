{
  "cells": [
    {
      "cell_type": "markdown",
      "metadata": {
        "id": "view-in-github",
        "colab_type": "text"
      },
      "source": [
        "<a href=\"https://colab.research.google.com/github/Antu116/Titanic-Dataset-Analysis/blob/main/titanic_dataset_analysis.ipynb\" target=\"_parent\"><img src=\"https://colab.research.google.com/assets/colab-badge.svg\" alt=\"Open In Colab\"/></a>"
      ]
    },
    {
      "cell_type": "code",
      "execution_count": null,
      "id": "a4c2ea9c",
      "metadata": {
        "_cell_guid": "b1076dfc-b9ad-4769-8c92-a6c4dae69d19",
        "_uuid": "8f2839f25d086af736a60e9eeb907d3b93b6e0e5",
        "execution": {
          "iopub.execute_input": "2023-04-07T19:07:15.921262Z",
          "iopub.status.busy": "2023-04-07T19:07:15.920302Z",
          "iopub.status.idle": "2023-04-07T19:07:15.943785Z",
          "shell.execute_reply": "2023-04-07T19:07:15.942202Z"
        },
        "papermill": {
          "duration": 0.045485,
          "end_time": "2023-04-07T19:07:15.946865",
          "exception": false,
          "start_time": "2023-04-07T19:07:15.901380",
          "status": "completed"
        },
        "tags": [],
        "id": "a4c2ea9c",
        "outputId": "ed4fcb46-f907-4f56-8392-ed8ff7c84488"
      },
      "outputs": [
        {
          "name": "stdout",
          "output_type": "stream",
          "text": [
            "/kaggle/input/titanic/train.csv\n",
            "/kaggle/input/titanic/test.csv\n",
            "/kaggle/input/titanic/gender_submission.csv\n"
          ]
        }
      ],
      "source": [
        "# This Python 3 environment comes with many helpful analytics libraries installed\n",
        "# It is defined by the kaggle/python Docker image: https://github.com/kaggle/docker-python\n",
        "# For example, here's several helpful packages to load\n",
        "\n",
        "import numpy as np # linear algebra\n",
        "import pandas as pd # data processing, CSV file I/O (e.g. pd.read_csv)\n",
        "\n",
        "# Input data files are available in the read-only \"../input/\" directory\n",
        "# For example, running this (by clicking run or pressing Shift+Enter) will list all files under the input directory\n",
        "\n",
        "import os\n",
        "for dirname, _, filenames in os.walk('/kaggle/input'):\n",
        "    for filename in filenames:\n",
        "        print(os.path.join(dirname, filename))\n",
        "\n",
        "# You can write up to 20GB to the current directory (/kaggle/working/) that gets preserved as output when you create a version using \"Save & Run All\" \n",
        "# You can also write temporary files to /kaggle/temp/, but they won't be saved outside of the current session"
      ]
    },
    {
      "cell_type": "markdown",
      "id": "e46d7d39",
      "metadata": {
        "papermill": {
          "duration": 0.022033,
          "end_time": "2023-04-07T19:07:15.988742",
          "exception": false,
          "start_time": "2023-04-07T19:07:15.966709",
          "status": "completed"
        },
        "tags": [],
        "id": "e46d7d39"
      },
      "source": [
        "# Import Modules"
      ]
    },
    {
      "cell_type": "code",
      "execution_count": null,
      "id": "3168d63f",
      "metadata": {
        "execution": {
          "iopub.execute_input": "2023-04-07T19:07:16.023114Z",
          "iopub.status.busy": "2023-04-07T19:07:16.022259Z",
          "iopub.status.idle": "2023-04-07T19:07:17.404219Z",
          "shell.execute_reply": "2023-04-07T19:07:17.403117Z"
        },
        "papermill": {
          "duration": 1.402328,
          "end_time": "2023-04-07T19:07:17.407732",
          "exception": false,
          "start_time": "2023-04-07T19:07:16.005404",
          "status": "completed"
        },
        "tags": [],
        "id": "3168d63f"
      },
      "outputs": [],
      "source": [
        "import pandas as pd \n",
        "import numpy as np \n",
        "import seaborn as sns\n",
        "import matplotlib.pyplot as plt"
      ]
    },
    {
      "cell_type": "markdown",
      "id": "766a9808",
      "metadata": {
        "papermill": {
          "duration": 0.015249,
          "end_time": "2023-04-07T19:07:17.440390",
          "exception": false,
          "start_time": "2023-04-07T19:07:17.425141",
          "status": "completed"
        },
        "tags": [],
        "id": "766a9808"
      },
      "source": [
        "# Loading Dataset"
      ]
    },
    {
      "cell_type": "code",
      "execution_count": null,
      "id": "1769a4cf",
      "metadata": {
        "execution": {
          "iopub.execute_input": "2023-04-07T19:07:17.473903Z",
          "iopub.status.busy": "2023-04-07T19:07:17.473459Z",
          "iopub.status.idle": "2023-04-07T19:07:17.515047Z",
          "shell.execute_reply": "2023-04-07T19:07:17.513801Z"
        },
        "papermill": {
          "duration": 0.062748,
          "end_time": "2023-04-07T19:07:17.518253",
          "exception": false,
          "start_time": "2023-04-07T19:07:17.455505",
          "status": "completed"
        },
        "tags": [],
        "id": "1769a4cf"
      },
      "outputs": [],
      "source": [
        "train = pd.read_csv('/kaggle/input/titanic/train.csv')\n",
        "test = pd.read_csv('/kaggle/input/titanic/test.csv')"
      ]
    },
    {
      "cell_type": "code",
      "execution_count": null,
      "id": "912120e6",
      "metadata": {
        "execution": {
          "iopub.execute_input": "2023-04-07T19:07:17.550669Z",
          "iopub.status.busy": "2023-04-07T19:07:17.550209Z",
          "iopub.status.idle": "2023-04-07T19:07:17.584309Z",
          "shell.execute_reply": "2023-04-07T19:07:17.583088Z"
        },
        "papermill": {
          "duration": 0.053293,
          "end_time": "2023-04-07T19:07:17.586950",
          "exception": false,
          "start_time": "2023-04-07T19:07:17.533657",
          "status": "completed"
        },
        "tags": [],
        "id": "912120e6",
        "outputId": "b60f424f-61b2-44e9-db4f-f7798d32ae28"
      },
      "outputs": [
        {
          "data": {
            "text/html": [
              "<div>\n",
              "<style scoped>\n",
              "    .dataframe tbody tr th:only-of-type {\n",
              "        vertical-align: middle;\n",
              "    }\n",
              "\n",
              "    .dataframe tbody tr th {\n",
              "        vertical-align: top;\n",
              "    }\n",
              "\n",
              "    .dataframe thead th {\n",
              "        text-align: right;\n",
              "    }\n",
              "</style>\n",
              "<table border=\"1\" class=\"dataframe\">\n",
              "  <thead>\n",
              "    <tr style=\"text-align: right;\">\n",
              "      <th></th>\n",
              "      <th>PassengerId</th>\n",
              "      <th>Survived</th>\n",
              "      <th>Pclass</th>\n",
              "      <th>Name</th>\n",
              "      <th>Sex</th>\n",
              "      <th>Age</th>\n",
              "      <th>SibSp</th>\n",
              "      <th>Parch</th>\n",
              "      <th>Ticket</th>\n",
              "      <th>Fare</th>\n",
              "      <th>Cabin</th>\n",
              "      <th>Embarked</th>\n",
              "    </tr>\n",
              "  </thead>\n",
              "  <tbody>\n",
              "    <tr>\n",
              "      <th>0</th>\n",
              "      <td>1</td>\n",
              "      <td>0</td>\n",
              "      <td>3</td>\n",
              "      <td>Braund, Mr. Owen Harris</td>\n",
              "      <td>male</td>\n",
              "      <td>22.0</td>\n",
              "      <td>1</td>\n",
              "      <td>0</td>\n",
              "      <td>A/5 21171</td>\n",
              "      <td>7.2500</td>\n",
              "      <td>NaN</td>\n",
              "      <td>S</td>\n",
              "    </tr>\n",
              "    <tr>\n",
              "      <th>1</th>\n",
              "      <td>2</td>\n",
              "      <td>1</td>\n",
              "      <td>1</td>\n",
              "      <td>Cumings, Mrs. John Bradley (Florence Briggs Th...</td>\n",
              "      <td>female</td>\n",
              "      <td>38.0</td>\n",
              "      <td>1</td>\n",
              "      <td>0</td>\n",
              "      <td>PC 17599</td>\n",
              "      <td>71.2833</td>\n",
              "      <td>C85</td>\n",
              "      <td>C</td>\n",
              "    </tr>\n",
              "    <tr>\n",
              "      <th>2</th>\n",
              "      <td>3</td>\n",
              "      <td>1</td>\n",
              "      <td>3</td>\n",
              "      <td>Heikkinen, Miss. Laina</td>\n",
              "      <td>female</td>\n",
              "      <td>26.0</td>\n",
              "      <td>0</td>\n",
              "      <td>0</td>\n",
              "      <td>STON/O2. 3101282</td>\n",
              "      <td>7.9250</td>\n",
              "      <td>NaN</td>\n",
              "      <td>S</td>\n",
              "    </tr>\n",
              "    <tr>\n",
              "      <th>3</th>\n",
              "      <td>4</td>\n",
              "      <td>1</td>\n",
              "      <td>1</td>\n",
              "      <td>Futrelle, Mrs. Jacques Heath (Lily May Peel)</td>\n",
              "      <td>female</td>\n",
              "      <td>35.0</td>\n",
              "      <td>1</td>\n",
              "      <td>0</td>\n",
              "      <td>113803</td>\n",
              "      <td>53.1000</td>\n",
              "      <td>C123</td>\n",
              "      <td>S</td>\n",
              "    </tr>\n",
              "    <tr>\n",
              "      <th>4</th>\n",
              "      <td>5</td>\n",
              "      <td>0</td>\n",
              "      <td>3</td>\n",
              "      <td>Allen, Mr. William Henry</td>\n",
              "      <td>male</td>\n",
              "      <td>35.0</td>\n",
              "      <td>0</td>\n",
              "      <td>0</td>\n",
              "      <td>373450</td>\n",
              "      <td>8.0500</td>\n",
              "      <td>NaN</td>\n",
              "      <td>S</td>\n",
              "    </tr>\n",
              "  </tbody>\n",
              "</table>\n",
              "</div>"
            ],
            "text/plain": [
              "   PassengerId  Survived  Pclass  \\\n",
              "0            1         0       3   \n",
              "1            2         1       1   \n",
              "2            3         1       3   \n",
              "3            4         1       1   \n",
              "4            5         0       3   \n",
              "\n",
              "                                                Name     Sex   Age  SibSp  \\\n",
              "0                            Braund, Mr. Owen Harris    male  22.0      1   \n",
              "1  Cumings, Mrs. John Bradley (Florence Briggs Th...  female  38.0      1   \n",
              "2                             Heikkinen, Miss. Laina  female  26.0      0   \n",
              "3       Futrelle, Mrs. Jacques Heath (Lily May Peel)  female  35.0      1   \n",
              "4                           Allen, Mr. William Henry    male  35.0      0   \n",
              "\n",
              "   Parch            Ticket     Fare Cabin Embarked  \n",
              "0      0         A/5 21171   7.2500   NaN        S  \n",
              "1      0          PC 17599  71.2833   C85        C  \n",
              "2      0  STON/O2. 3101282   7.9250   NaN        S  \n",
              "3      0            113803  53.1000  C123        S  \n",
              "4      0            373450   8.0500   NaN        S  "
            ]
          },
          "execution_count": 4,
          "metadata": {},
          "output_type": "execute_result"
        }
      ],
      "source": [
        "train.head()"
      ]
    },
    {
      "cell_type": "code",
      "execution_count": null,
      "id": "60e0c248",
      "metadata": {
        "execution": {
          "iopub.execute_input": "2023-04-07T19:07:17.620220Z",
          "iopub.status.busy": "2023-04-07T19:07:17.619470Z",
          "iopub.status.idle": "2023-04-07T19:07:17.665443Z",
          "shell.execute_reply": "2023-04-07T19:07:17.664580Z"
        },
        "papermill": {
          "duration": 0.065127,
          "end_time": "2023-04-07T19:07:17.667913",
          "exception": false,
          "start_time": "2023-04-07T19:07:17.602786",
          "status": "completed"
        },
        "tags": [],
        "id": "60e0c248",
        "outputId": "b724cc22-381c-4d43-f7f9-20e625cd4cb6"
      },
      "outputs": [
        {
          "data": {
            "text/html": [
              "<div>\n",
              "<style scoped>\n",
              "    .dataframe tbody tr th:only-of-type {\n",
              "        vertical-align: middle;\n",
              "    }\n",
              "\n",
              "    .dataframe tbody tr th {\n",
              "        vertical-align: top;\n",
              "    }\n",
              "\n",
              "    .dataframe thead th {\n",
              "        text-align: right;\n",
              "    }\n",
              "</style>\n",
              "<table border=\"1\" class=\"dataframe\">\n",
              "  <thead>\n",
              "    <tr style=\"text-align: right;\">\n",
              "      <th></th>\n",
              "      <th>PassengerId</th>\n",
              "      <th>Survived</th>\n",
              "      <th>Pclass</th>\n",
              "      <th>Age</th>\n",
              "      <th>SibSp</th>\n",
              "      <th>Parch</th>\n",
              "      <th>Fare</th>\n",
              "    </tr>\n",
              "  </thead>\n",
              "  <tbody>\n",
              "    <tr>\n",
              "      <th>count</th>\n",
              "      <td>891.000000</td>\n",
              "      <td>891.000000</td>\n",
              "      <td>891.000000</td>\n",
              "      <td>714.000000</td>\n",
              "      <td>891.000000</td>\n",
              "      <td>891.000000</td>\n",
              "      <td>891.000000</td>\n",
              "    </tr>\n",
              "    <tr>\n",
              "      <th>mean</th>\n",
              "      <td>446.000000</td>\n",
              "      <td>0.383838</td>\n",
              "      <td>2.308642</td>\n",
              "      <td>29.699118</td>\n",
              "      <td>0.523008</td>\n",
              "      <td>0.381594</td>\n",
              "      <td>32.204208</td>\n",
              "    </tr>\n",
              "    <tr>\n",
              "      <th>std</th>\n",
              "      <td>257.353842</td>\n",
              "      <td>0.486592</td>\n",
              "      <td>0.836071</td>\n",
              "      <td>14.526497</td>\n",
              "      <td>1.102743</td>\n",
              "      <td>0.806057</td>\n",
              "      <td>49.693429</td>\n",
              "    </tr>\n",
              "    <tr>\n",
              "      <th>min</th>\n",
              "      <td>1.000000</td>\n",
              "      <td>0.000000</td>\n",
              "      <td>1.000000</td>\n",
              "      <td>0.420000</td>\n",
              "      <td>0.000000</td>\n",
              "      <td>0.000000</td>\n",
              "      <td>0.000000</td>\n",
              "    </tr>\n",
              "    <tr>\n",
              "      <th>25%</th>\n",
              "      <td>223.500000</td>\n",
              "      <td>0.000000</td>\n",
              "      <td>2.000000</td>\n",
              "      <td>20.125000</td>\n",
              "      <td>0.000000</td>\n",
              "      <td>0.000000</td>\n",
              "      <td>7.910400</td>\n",
              "    </tr>\n",
              "    <tr>\n",
              "      <th>50%</th>\n",
              "      <td>446.000000</td>\n",
              "      <td>0.000000</td>\n",
              "      <td>3.000000</td>\n",
              "      <td>28.000000</td>\n",
              "      <td>0.000000</td>\n",
              "      <td>0.000000</td>\n",
              "      <td>14.454200</td>\n",
              "    </tr>\n",
              "    <tr>\n",
              "      <th>75%</th>\n",
              "      <td>668.500000</td>\n",
              "      <td>1.000000</td>\n",
              "      <td>3.000000</td>\n",
              "      <td>38.000000</td>\n",
              "      <td>1.000000</td>\n",
              "      <td>0.000000</td>\n",
              "      <td>31.000000</td>\n",
              "    </tr>\n",
              "    <tr>\n",
              "      <th>max</th>\n",
              "      <td>891.000000</td>\n",
              "      <td>1.000000</td>\n",
              "      <td>3.000000</td>\n",
              "      <td>80.000000</td>\n",
              "      <td>8.000000</td>\n",
              "      <td>6.000000</td>\n",
              "      <td>512.329200</td>\n",
              "    </tr>\n",
              "  </tbody>\n",
              "</table>\n",
              "</div>"
            ],
            "text/plain": [
              "       PassengerId    Survived      Pclass         Age       SibSp  \\\n",
              "count   891.000000  891.000000  891.000000  714.000000  891.000000   \n",
              "mean    446.000000    0.383838    2.308642   29.699118    0.523008   \n",
              "std     257.353842    0.486592    0.836071   14.526497    1.102743   \n",
              "min       1.000000    0.000000    1.000000    0.420000    0.000000   \n",
              "25%     223.500000    0.000000    2.000000   20.125000    0.000000   \n",
              "50%     446.000000    0.000000    3.000000   28.000000    0.000000   \n",
              "75%     668.500000    1.000000    3.000000   38.000000    1.000000   \n",
              "max     891.000000    1.000000    3.000000   80.000000    8.000000   \n",
              "\n",
              "            Parch        Fare  \n",
              "count  891.000000  891.000000  \n",
              "mean     0.381594   32.204208  \n",
              "std      0.806057   49.693429  \n",
              "min      0.000000    0.000000  \n",
              "25%      0.000000    7.910400  \n",
              "50%      0.000000   14.454200  \n",
              "75%      0.000000   31.000000  \n",
              "max      6.000000  512.329200  "
            ]
          },
          "execution_count": 5,
          "metadata": {},
          "output_type": "execute_result"
        }
      ],
      "source": [
        "## Statistical info\n",
        "train.describe()"
      ]
    },
    {
      "cell_type": "code",
      "execution_count": null,
      "id": "c1e19621",
      "metadata": {
        "execution": {
          "iopub.execute_input": "2023-04-07T19:07:17.702136Z",
          "iopub.status.busy": "2023-04-07T19:07:17.701046Z",
          "iopub.status.idle": "2023-04-07T19:07:17.718282Z",
          "shell.execute_reply": "2023-04-07T19:07:17.717328Z"
        },
        "papermill": {
          "duration": 0.036982,
          "end_time": "2023-04-07T19:07:17.721059",
          "exception": false,
          "start_time": "2023-04-07T19:07:17.684077",
          "status": "completed"
        },
        "tags": [],
        "id": "c1e19621",
        "outputId": "b96efb5b-bdd2-44ef-b5dd-5e3d45fd365e"
      },
      "outputs": [
        {
          "name": "stdout",
          "output_type": "stream",
          "text": [
            "<class 'pandas.core.frame.DataFrame'>\n",
            "RangeIndex: 891 entries, 0 to 890\n",
            "Data columns (total 12 columns):\n",
            " #   Column       Non-Null Count  Dtype  \n",
            "---  ------       --------------  -----  \n",
            " 0   PassengerId  891 non-null    int64  \n",
            " 1   Survived     891 non-null    int64  \n",
            " 2   Pclass       891 non-null    int64  \n",
            " 3   Name         891 non-null    object \n",
            " 4   Sex          891 non-null    object \n",
            " 5   Age          714 non-null    float64\n",
            " 6   SibSp        891 non-null    int64  \n",
            " 7   Parch        891 non-null    int64  \n",
            " 8   Ticket       891 non-null    object \n",
            " 9   Fare         891 non-null    float64\n",
            " 10  Cabin        204 non-null    object \n",
            " 11  Embarked     889 non-null    object \n",
            "dtypes: float64(2), int64(5), object(5)\n",
            "memory usage: 83.7+ KB\n"
          ]
        }
      ],
      "source": [
        "train.info()"
      ]
    },
    {
      "cell_type": "markdown",
      "id": "10bdc7a5",
      "metadata": {
        "papermill": {
          "duration": 0.015427,
          "end_time": "2023-04-07T19:07:17.752170",
          "exception": false,
          "start_time": "2023-04-07T19:07:17.736743",
          "status": "completed"
        },
        "tags": [],
        "id": "10bdc7a5"
      },
      "source": [
        "# Explonatory Data Analysis"
      ]
    },
    {
      "cell_type": "code",
      "execution_count": null,
      "id": "22dfee74",
      "metadata": {
        "execution": {
          "iopub.execute_input": "2023-04-07T19:07:17.786083Z",
          "iopub.status.busy": "2023-04-07T19:07:17.785266Z",
          "iopub.status.idle": "2023-04-07T19:07:18.022209Z",
          "shell.execute_reply": "2023-04-07T19:07:18.021249Z"
        },
        "papermill": {
          "duration": 0.256609,
          "end_time": "2023-04-07T19:07:18.024436",
          "exception": false,
          "start_time": "2023-04-07T19:07:17.767827",
          "status": "completed"
        },
        "tags": [],
        "id": "22dfee74",
        "outputId": "e93c5667-0e07-4ecd-b7b0-531391faff7a"
      },
      "outputs": [
        {
          "data": {
            "text/plain": [
              "<AxesSubplot:xlabel='Survived', ylabel='count'>"
            ]
          },
          "execution_count": 7,
          "metadata": {},
          "output_type": "execute_result"
        },
        {
          "data": {
            "image/png": "[encoded data removed]",
            "text/plain": [
              "<Figure size 640x480 with 1 Axes>"
            ]
          },
          "metadata": {},
          "output_type": "display_data"
        }
      ],
      "source": [
        "# catagorical attributes\n",
        "sns.countplot(x = 'Survived', data = train)"
      ]
    },
    {
      "cell_type": "code",
      "execution_count": null,
      "id": "078cb764",
      "metadata": {
        "execution": {
          "iopub.execute_input": "2023-04-07T19:07:18.060442Z",
          "iopub.status.busy": "2023-04-07T19:07:18.059643Z",
          "iopub.status.idle": "2023-04-07T19:07:18.270124Z",
          "shell.execute_reply": "2023-04-07T19:07:18.268753Z"
        },
        "papermill": {
          "duration": 0.231347,
          "end_time": "2023-04-07T19:07:18.272870",
          "exception": false,
          "start_time": "2023-04-07T19:07:18.041523",
          "status": "completed"
        },
        "tags": [],
        "id": "078cb764",
        "outputId": "8fec656b-2f74-493b-c9ce-dfe8ef930de3"
      },
      "outputs": [
        {
          "data": {
            "text/plain": [
              "<AxesSubplot:xlabel='Pclass', ylabel='count'>"
            ]
          },
          "execution_count": 8,
          "metadata": {},
          "output_type": "execute_result"
        },
        {
          "data": {
            "image/png": "[encoded data removed]",
            "text/plain": [
              "<Figure size 640x480 with 1 Axes>"
            ]
          },
          "metadata": {},
          "output_type": "display_data"
        }
      ],
      "source": [
        "sns.countplot(x = 'Pclass', data = train)"
      ]
    },
    {
      "cell_type": "code",
      "execution_count": null,
      "id": "ef91d55d",
      "metadata": {
        "execution": {
          "iopub.execute_input": "2023-04-07T19:07:18.309070Z",
          "iopub.status.busy": "2023-04-07T19:07:18.307694Z",
          "iopub.status.idle": "2023-04-07T19:07:18.519444Z",
          "shell.execute_reply": "2023-04-07T19:07:18.517833Z"
        },
        "papermill": {
          "duration": 0.232632,
          "end_time": "2023-04-07T19:07:18.522231",
          "exception": false,
          "start_time": "2023-04-07T19:07:18.289599",
          "status": "completed"
        },
        "tags": [],
        "id": "ef91d55d",
        "outputId": "1d60c2c9-5671-4a27-94f5-e83c3806e6a2"
      },
      "outputs": [
        {
          "data": {
            "text/plain": [
              "<AxesSubplot:xlabel='Sex', ylabel='count'>"
            ]
          },
          "execution_count": 9,
          "metadata": {},
          "output_type": "execute_result"
        },
        {
          "data": {
            "image/png": "[encoded data removed]",
            "text/plain": [
              "<Figure size 640x480 with 1 Axes>"
            ]
          },
          "metadata": {},
          "output_type": "display_data"
        }
      ],
      "source": [
        "sns.countplot(x = 'Sex', data = train)"
      ]
    },
    {
      "cell_type": "code",
      "execution_count": null,
      "id": "62d94339",
      "metadata": {
        "execution": {
          "iopub.execute_input": "2023-04-07T19:07:18.558550Z",
          "iopub.status.busy": "2023-04-07T19:07:18.558100Z",
          "iopub.status.idle": "2023-04-07T19:07:18.803537Z",
          "shell.execute_reply": "2023-04-07T19:07:18.802077Z"
        },
        "papermill": {
          "duration": 0.267423,
          "end_time": "2023-04-07T19:07:18.806581",
          "exception": false,
          "start_time": "2023-04-07T19:07:18.539158",
          "status": "completed"
        },
        "tags": [],
        "id": "62d94339",
        "outputId": "331995d8-46ac-4499-e0b5-fdb4dde75c60"
      },
      "outputs": [
        {
          "data": {
            "text/plain": [
              "<AxesSubplot:xlabel='SibSp', ylabel='count'>"
            ]
          },
          "execution_count": 10,
          "metadata": {},
          "output_type": "execute_result"
        },
        {
          "data": {
            "image/png": "[encoded data removed]",
            "text/plain": [
              "<Figure size 640x480 with 1 Axes>"
            ]
          },
          "metadata": {},
          "output_type": "display_data"
        }
      ],
      "source": [
        "sns.countplot(x = 'SibSp', data = train)"
      ]
    },
    {
      "cell_type": "code",
      "execution_count": null,
      "id": "f2ca9ab9",
      "metadata": {
        "execution": {
          "iopub.execute_input": "2023-04-07T19:07:18.843307Z",
          "iopub.status.busy": "2023-04-07T19:07:18.842834Z",
          "iopub.status.idle": "2023-04-07T19:07:19.096156Z",
          "shell.execute_reply": "2023-04-07T19:07:19.094246Z"
        },
        "papermill": {
          "duration": 0.274963,
          "end_time": "2023-04-07T19:07:19.098929",
          "exception": false,
          "start_time": "2023-04-07T19:07:18.823966",
          "status": "completed"
        },
        "tags": [],
        "id": "f2ca9ab9",
        "outputId": "049d01c9-34fc-4ee2-df88-d9773e7117e3"
      },
      "outputs": [
        {
          "data": {
            "text/plain": [
              "<AxesSubplot:xlabel='Parch', ylabel='count'>"
            ]
          },
          "execution_count": 11,
          "metadata": {},
          "output_type": "execute_result"
        },
        {
          "data": {
            "image/png": "[encoded data removed]",
            "text/plain": [
              "<Figure size 640x480 with 1 Axes>"
            ]
          },
          "metadata": {},
          "output_type": "display_data"
        }
      ],
      "source": [
        "sns.countplot(x = 'Parch', data = train)"
      ]
    },
    {
      "cell_type": "code",
      "execution_count": null,
      "id": "60339b82",
      "metadata": {
        "execution": {
          "iopub.execute_input": "2023-04-07T19:07:19.139820Z",
          "iopub.status.busy": "2023-04-07T19:07:19.137449Z",
          "iopub.status.idle": "2023-04-07T19:07:19.354047Z",
          "shell.execute_reply": "2023-04-07T19:07:19.352841Z"
        },
        "papermill": {
          "duration": 0.239465,
          "end_time": "2023-04-07T19:07:19.356946",
          "exception": false,
          "start_time": "2023-04-07T19:07:19.117481",
          "status": "completed"
        },
        "tags": [],
        "id": "60339b82",
        "outputId": "5cb5be3d-5ffc-413e-a865-3228edc403d8"
      },
      "outputs": [
        {
          "data": {
            "text/plain": [
              "<AxesSubplot:xlabel='Embarked', ylabel='count'>"
            ]
          },
          "execution_count": 12,
          "metadata": {},
          "output_type": "execute_result"
        },
        {
          "data": {
            "image/png": "[encoded data removed]",
            "text/plain": [
              "<Figure size 640x480 with 1 Axes>"
            ]
          },
          "metadata": {},
          "output_type": "display_data"
        }
      ],
      "source": [
        "sns.countplot(x = 'Embarked', data = train)"
      ]
    },
    {
      "cell_type": "code",
      "execution_count": null,
      "id": "d44ca16d",
      "metadata": {
        "execution": {
          "iopub.execute_input": "2023-04-07T19:07:19.401775Z",
          "iopub.status.busy": "2023-04-07T19:07:19.400948Z",
          "iopub.status.idle": "2023-04-07T19:07:19.690507Z",
          "shell.execute_reply": "2023-04-07T19:07:19.689136Z"
        },
        "papermill": {
          "duration": 0.312851,
          "end_time": "2023-04-07T19:07:19.693448",
          "exception": false,
          "start_time": "2023-04-07T19:07:19.380597",
          "status": "completed"
        },
        "tags": [],
        "id": "d44ca16d",
        "outputId": "17280568-1390-4f70-d039-995bbd2be24d"
      },
      "outputs": [
        {
          "data": {
            "image/png": "[encoded data removed]",
            "text/plain": [
              "<Figure size 1000x500 with 1 Axes>"
            ]
          },
          "metadata": {},
          "output_type": "display_data"
        }
      ],
      "source": [
        "plt.figure(figsize = (10,5))\n",
        "sns.histplot(x = 'Age', data = train)\n",
        "plt.show()"
      ]
    },
    {
      "cell_type": "code",
      "execution_count": null,
      "id": "48395337",
      "metadata": {
        "execution": {
          "iopub.execute_input": "2023-04-07T19:07:19.732499Z",
          "iopub.status.busy": "2023-04-07T19:07:19.732045Z",
          "iopub.status.idle": "2023-04-07T19:07:20.011493Z",
          "shell.execute_reply": "2023-04-07T19:07:20.010406Z"
        },
        "papermill": {
          "duration": 0.302267,
          "end_time": "2023-04-07T19:07:20.014272",
          "exception": false,
          "start_time": "2023-04-07T19:07:19.712005",
          "status": "completed"
        },
        "tags": [],
        "id": "48395337",
        "outputId": "9c6d04f2-bd6f-4380-f66b-df477659329c"
      },
      "outputs": [
        {
          "data": {
            "image/png": "[encoded data removed]",
            "text/plain": [
              "<Figure size 640x480 with 1 Axes>"
            ]
          },
          "metadata": {},
          "output_type": "display_data"
        }
      ],
      "source": [
        "class_fare = train.pivot_table(index = 'Pclass',values = 'Fare')\n",
        "class_fare.plot(kind = 'bar')\n",
        "plt.xlabel('Pclass')\n",
        "plt.ylabel('Avg. Fare')\n",
        "plt.xticks(rotation = 0)\n",
        "plt.show()"
      ]
    },
    {
      "cell_type": "code",
      "execution_count": null,
      "id": "fd54d52e",
      "metadata": {
        "execution": {
          "iopub.execute_input": "2023-04-07T19:07:20.053659Z",
          "iopub.status.busy": "2023-04-07T19:07:20.053199Z",
          "iopub.status.idle": "2023-04-07T19:07:20.278284Z",
          "shell.execute_reply": "2023-04-07T19:07:20.277294Z"
        },
        "papermill": {
          "duration": 0.247644,
          "end_time": "2023-04-07T19:07:20.280701",
          "exception": false,
          "start_time": "2023-04-07T19:07:20.033057",
          "status": "completed"
        },
        "tags": [],
        "id": "fd54d52e",
        "outputId": "dfa60854-3499-4206-8d8b-eb31d6402d4b"
      },
      "outputs": [
        {
          "data": {
            "image/png": "[encoded data removed]",
            "text/plain": [
              "<Figure size 640x480 with 1 Axes>"
            ]
          },
          "metadata": {},
          "output_type": "display_data"
        }
      ],
      "source": [
        "class_fare = train.pivot_table(index = 'Pclass',values = 'Fare',aggfunc = np.sum)\n",
        "class_fare.plot(kind = 'bar')\n",
        "plt.xlabel('Pclass')\n",
        "plt.ylabel('Avg. Fare')\n",
        "plt.xticks(rotation = 0)\n",
        "plt.show()"
      ]
    },
    {
      "cell_type": "code",
      "execution_count": null,
      "id": "3d4531d8",
      "metadata": {
        "execution": {
          "iopub.execute_input": "2023-04-07T19:07:20.321162Z",
          "iopub.status.busy": "2023-04-07T19:07:20.320033Z",
          "iopub.status.idle": "2023-04-07T19:07:20.739787Z",
          "shell.execute_reply": "2023-04-07T19:07:20.738153Z"
        },
        "papermill": {
          "duration": 0.442919,
          "end_time": "2023-04-07T19:07:20.742700",
          "exception": false,
          "start_time": "2023-04-07T19:07:20.299781",
          "status": "completed"
        },
        "tags": [],
        "id": "3d4531d8",
        "outputId": "eadef059-96f6-4506-9351-fdd704792cc4"
      },
      "outputs": [
        {
          "data": {
            "text/plain": [
              "<AxesSubplot:xlabel='Pclass', ylabel='Fare'>"
            ]
          },
          "execution_count": 16,
          "metadata": {},
          "output_type": "execute_result"
        },
        {
          "data": {
            "image/png": "[encoded data removed]",
            "text/plain": [
              "<Figure size 640x480 with 1 Axes>"
            ]
          },
          "metadata": {},
          "output_type": "display_data"
        }
      ],
      "source": [
        "sns.barplot(x = 'Pclass', y = 'Fare', hue = 'Survived', data = train)"
      ]
    },
    {
      "cell_type": "code",
      "execution_count": null,
      "id": "1c08d253",
      "metadata": {
        "execution": {
          "iopub.execute_input": "2023-04-07T19:07:20.783957Z",
          "iopub.status.busy": "2023-04-07T19:07:20.783078Z",
          "iopub.status.idle": "2023-04-07T19:07:21.190814Z",
          "shell.execute_reply": "2023-04-07T19:07:21.189379Z"
        },
        "papermill": {
          "duration": 0.431718,
          "end_time": "2023-04-07T19:07:21.193865",
          "exception": false,
          "start_time": "2023-04-07T19:07:20.762147",
          "status": "completed"
        },
        "tags": [],
        "id": "1c08d253",
        "outputId": "e7c42567-313c-4b52-e7bd-9d4741206d19"
      },
      "outputs": [
        {
          "data": {
            "text/plain": [
              "<AxesSubplot:xlabel='Survived', ylabel='Fare'>"
            ]
          },
          "execution_count": 17,
          "metadata": {},
          "output_type": "execute_result"
        },
        {
          "data": {
            "image/png": "[encoded data removed]",
            "text/plain": [
              "<Figure size 640x480 with 1 Axes>"
            ]
          },
          "metadata": {},
          "output_type": "display_data"
        }
      ],
      "source": [
        "sns.barplot(x = 'Survived', y = 'Fare', hue = 'Pclass', data = train)"
      ]
    },
    {
      "cell_type": "markdown",
      "id": "0b779e36",
      "metadata": {
        "papermill": {
          "duration": 0.021584,
          "end_time": "2023-04-07T19:07:21.235160",
          "exception": false,
          "start_time": "2023-04-07T19:07:21.213576",
          "status": "completed"
        },
        "tags": [],
        "id": "0b779e36"
      },
      "source": [
        "# Data Preprocessiong"
      ]
    },
    {
      "cell_type": "code",
      "execution_count": null,
      "id": "65c4cb3b",
      "metadata": {
        "execution": {
          "iopub.execute_input": "2023-04-07T19:07:21.278247Z",
          "iopub.status.busy": "2023-04-07T19:07:21.276982Z",
          "iopub.status.idle": "2023-04-07T19:07:21.300607Z",
          "shell.execute_reply": "2023-04-07T19:07:21.299237Z"
        },
        "papermill": {
          "duration": 0.047835,
          "end_time": "2023-04-07T19:07:21.303404",
          "exception": false,
          "start_time": "2023-04-07T19:07:21.255569",
          "status": "completed"
        },
        "tags": [],
        "id": "65c4cb3b",
        "outputId": "5f5c4902-ef79-4cbb-f0a7-d2d8032f2c7b"
      },
      "outputs": [
        {
          "data": {
            "text/html": [
              "<div>\n",
              "<style scoped>\n",
              "    .dataframe tbody tr th:only-of-type {\n",
              "        vertical-align: middle;\n",
              "    }\n",
              "\n",
              "    .dataframe tbody tr th {\n",
              "        vertical-align: top;\n",
              "    }\n",
              "\n",
              "    .dataframe thead th {\n",
              "        text-align: right;\n",
              "    }\n",
              "</style>\n",
              "<table border=\"1\" class=\"dataframe\">\n",
              "  <thead>\n",
              "    <tr style=\"text-align: right;\">\n",
              "      <th></th>\n",
              "      <th>PassengerId</th>\n",
              "      <th>Survived</th>\n",
              "      <th>Pclass</th>\n",
              "      <th>Name</th>\n",
              "      <th>Sex</th>\n",
              "      <th>Age</th>\n",
              "      <th>SibSp</th>\n",
              "      <th>Parch</th>\n",
              "      <th>Ticket</th>\n",
              "      <th>Fare</th>\n",
              "      <th>Cabin</th>\n",
              "      <th>Embarked</th>\n",
              "    </tr>\n",
              "  </thead>\n",
              "  <tbody>\n",
              "    <tr>\n",
              "      <th>0</th>\n",
              "      <td>1</td>\n",
              "      <td>0.0</td>\n",
              "      <td>3</td>\n",
              "      <td>Braund, Mr. Owen Harris</td>\n",
              "      <td>male</td>\n",
              "      <td>22.0</td>\n",
              "      <td>1</td>\n",
              "      <td>0</td>\n",
              "      <td>A/5 21171</td>\n",
              "      <td>7.2500</td>\n",
              "      <td>NaN</td>\n",
              "      <td>S</td>\n",
              "    </tr>\n",
              "    <tr>\n",
              "      <th>1</th>\n",
              "      <td>2</td>\n",
              "      <td>1.0</td>\n",
              "      <td>1</td>\n",
              "      <td>Cumings, Mrs. John Bradley (Florence Briggs Th...</td>\n",
              "      <td>female</td>\n",
              "      <td>38.0</td>\n",
              "      <td>1</td>\n",
              "      <td>0</td>\n",
              "      <td>PC 17599</td>\n",
              "      <td>71.2833</td>\n",
              "      <td>C85</td>\n",
              "      <td>C</td>\n",
              "    </tr>\n",
              "    <tr>\n",
              "      <th>2</th>\n",
              "      <td>3</td>\n",
              "      <td>1.0</td>\n",
              "      <td>3</td>\n",
              "      <td>Heikkinen, Miss. Laina</td>\n",
              "      <td>female</td>\n",
              "      <td>26.0</td>\n",
              "      <td>0</td>\n",
              "      <td>0</td>\n",
              "      <td>STON/O2. 3101282</td>\n",
              "      <td>7.9250</td>\n",
              "      <td>NaN</td>\n",
              "      <td>S</td>\n",
              "    </tr>\n",
              "    <tr>\n",
              "      <th>3</th>\n",
              "      <td>4</td>\n",
              "      <td>1.0</td>\n",
              "      <td>1</td>\n",
              "      <td>Futrelle, Mrs. Jacques Heath (Lily May Peel)</td>\n",
              "      <td>female</td>\n",
              "      <td>35.0</td>\n",
              "      <td>1</td>\n",
              "      <td>0</td>\n",
              "      <td>113803</td>\n",
              "      <td>53.1000</td>\n",
              "      <td>C123</td>\n",
              "      <td>S</td>\n",
              "    </tr>\n",
              "    <tr>\n",
              "      <th>4</th>\n",
              "      <td>5</td>\n",
              "      <td>0.0</td>\n",
              "      <td>3</td>\n",
              "      <td>Allen, Mr. William Henry</td>\n",
              "      <td>male</td>\n",
              "      <td>35.0</td>\n",
              "      <td>0</td>\n",
              "      <td>0</td>\n",
              "      <td>373450</td>\n",
              "      <td>8.0500</td>\n",
              "      <td>NaN</td>\n",
              "      <td>S</td>\n",
              "    </tr>\n",
              "  </tbody>\n",
              "</table>\n",
              "</div>"
            ],
            "text/plain": [
              "   PassengerId  Survived  Pclass  \\\n",
              "0            1       0.0       3   \n",
              "1            2       1.0       1   \n",
              "2            3       1.0       3   \n",
              "3            4       1.0       1   \n",
              "4            5       0.0       3   \n",
              "\n",
              "                                                Name     Sex   Age  SibSp  \\\n",
              "0                            Braund, Mr. Owen Harris    male  22.0      1   \n",
              "1  Cumings, Mrs. John Bradley (Florence Briggs Th...  female  38.0      1   \n",
              "2                             Heikkinen, Miss. Laina  female  26.0      0   \n",
              "3       Futrelle, Mrs. Jacques Heath (Lily May Peel)  female  35.0      1   \n",
              "4                           Allen, Mr. William Henry    male  35.0      0   \n",
              "\n",
              "   Parch            Ticket     Fare Cabin Embarked  \n",
              "0      0         A/5 21171   7.2500   NaN        S  \n",
              "1      0          PC 17599  71.2833   C85        C  \n",
              "2      0  STON/O2. 3101282   7.9250   NaN        S  \n",
              "3      0            113803  53.1000  C123        S  \n",
              "4      0            373450   8.0500   NaN        S  "
            ]
          },
          "execution_count": 18,
          "metadata": {},
          "output_type": "execute_result"
        }
      ],
      "source": [
        "\n",
        "#conbine two dataframe\n",
        "df = pd.concat([train,test], axis = 0)\n",
        "df = df.reset_index(drop = True)\n",
        "df.head()"
      ]
    },
    {
      "cell_type": "code",
      "execution_count": null,
      "id": "2f10b08f",
      "metadata": {
        "execution": {
          "iopub.execute_input": "2023-04-07T19:07:21.345070Z",
          "iopub.status.busy": "2023-04-07T19:07:21.344634Z",
          "iopub.status.idle": "2023-04-07T19:07:21.362224Z",
          "shell.execute_reply": "2023-04-07T19:07:21.360403Z"
        },
        "papermill": {
          "duration": 0.042501,
          "end_time": "2023-04-07T19:07:21.365745",
          "exception": false,
          "start_time": "2023-04-07T19:07:21.323244",
          "status": "completed"
        },
        "tags": [],
        "id": "2f10b08f",
        "outputId": "c2d61591-6d10-460b-e66b-507eeaec79ae"
      },
      "outputs": [
        {
          "data": {
            "text/html": [
              "<div>\n",
              "<style scoped>\n",
              "    .dataframe tbody tr th:only-of-type {\n",
              "        vertical-align: middle;\n",
              "    }\n",
              "\n",
              "    .dataframe tbody tr th {\n",
              "        vertical-align: top;\n",
              "    }\n",
              "\n",
              "    .dataframe thead th {\n",
              "        text-align: right;\n",
              "    }\n",
              "</style>\n",
              "<table border=\"1\" class=\"dataframe\">\n",
              "  <thead>\n",
              "    <tr style=\"text-align: right;\">\n",
              "      <th></th>\n",
              "      <th>PassengerId</th>\n",
              "      <th>Survived</th>\n",
              "      <th>Pclass</th>\n",
              "      <th>Name</th>\n",
              "      <th>Sex</th>\n",
              "      <th>Age</th>\n",
              "      <th>SibSp</th>\n",
              "      <th>Parch</th>\n",
              "      <th>Ticket</th>\n",
              "      <th>Fare</th>\n",
              "      <th>Cabin</th>\n",
              "      <th>Embarked</th>\n",
              "    </tr>\n",
              "  </thead>\n",
              "  <tbody>\n",
              "    <tr>\n",
              "      <th>1304</th>\n",
              "      <td>1305</td>\n",
              "      <td>NaN</td>\n",
              "      <td>3</td>\n",
              "      <td>Spector, Mr. Woolf</td>\n",
              "      <td>male</td>\n",
              "      <td>NaN</td>\n",
              "      <td>0</td>\n",
              "      <td>0</td>\n",
              "      <td>A.5. 3236</td>\n",
              "      <td>8.0500</td>\n",
              "      <td>NaN</td>\n",
              "      <td>S</td>\n",
              "    </tr>\n",
              "    <tr>\n",
              "      <th>1305</th>\n",
              "      <td>1306</td>\n",
              "      <td>NaN</td>\n",
              "      <td>1</td>\n",
              "      <td>Oliva y Ocana, Dona. Fermina</td>\n",
              "      <td>female</td>\n",
              "      <td>39.0</td>\n",
              "      <td>0</td>\n",
              "      <td>0</td>\n",
              "      <td>PC 17758</td>\n",
              "      <td>108.9000</td>\n",
              "      <td>C105</td>\n",
              "      <td>C</td>\n",
              "    </tr>\n",
              "    <tr>\n",
              "      <th>1306</th>\n",
              "      <td>1307</td>\n",
              "      <td>NaN</td>\n",
              "      <td>3</td>\n",
              "      <td>Saether, Mr. Simon Sivertsen</td>\n",
              "      <td>male</td>\n",
              "      <td>38.5</td>\n",
              "      <td>0</td>\n",
              "      <td>0</td>\n",
              "      <td>SOTON/O.Q. 3101262</td>\n",
              "      <td>7.2500</td>\n",
              "      <td>NaN</td>\n",
              "      <td>S</td>\n",
              "    </tr>\n",
              "    <tr>\n",
              "      <th>1307</th>\n",
              "      <td>1308</td>\n",
              "      <td>NaN</td>\n",
              "      <td>3</td>\n",
              "      <td>Ware, Mr. Frederick</td>\n",
              "      <td>male</td>\n",
              "      <td>NaN</td>\n",
              "      <td>0</td>\n",
              "      <td>0</td>\n",
              "      <td>359309</td>\n",
              "      <td>8.0500</td>\n",
              "      <td>NaN</td>\n",
              "      <td>S</td>\n",
              "    </tr>\n",
              "    <tr>\n",
              "      <th>1308</th>\n",
              "      <td>1309</td>\n",
              "      <td>NaN</td>\n",
              "      <td>3</td>\n",
              "      <td>Peter, Master. Michael J</td>\n",
              "      <td>male</td>\n",
              "      <td>NaN</td>\n",
              "      <td>1</td>\n",
              "      <td>1</td>\n",
              "      <td>2668</td>\n",
              "      <td>22.3583</td>\n",
              "      <td>NaN</td>\n",
              "      <td>C</td>\n",
              "    </tr>\n",
              "  </tbody>\n",
              "</table>\n",
              "</div>"
            ],
            "text/plain": [
              "      PassengerId  Survived  Pclass                          Name     Sex  \\\n",
              "1304         1305       NaN       3            Spector, Mr. Woolf    male   \n",
              "1305         1306       NaN       1  Oliva y Ocana, Dona. Fermina  female   \n",
              "1306         1307       NaN       3  Saether, Mr. Simon Sivertsen    male   \n",
              "1307         1308       NaN       3           Ware, Mr. Frederick    male   \n",
              "1308         1309       NaN       3      Peter, Master. Michael J    male   \n",
              "\n",
              "       Age  SibSp  Parch              Ticket      Fare Cabin Embarked  \n",
              "1304   NaN      0      0           A.5. 3236    8.0500   NaN        S  \n",
              "1305  39.0      0      0            PC 17758  108.9000  C105        C  \n",
              "1306  38.5      0      0  SOTON/O.Q. 3101262    7.2500   NaN        S  \n",
              "1307   NaN      0      0              359309    8.0500   NaN        S  \n",
              "1308   NaN      1      1                2668   22.3583   NaN        C  "
            ]
          },
          "execution_count": 19,
          "metadata": {},
          "output_type": "execute_result"
        }
      ],
      "source": [
        "df.tail()"
      ]
    },
    {
      "cell_type": "code",
      "execution_count": null,
      "id": "ceb58d52",
      "metadata": {
        "execution": {
          "iopub.execute_input": "2023-04-07T19:07:21.408361Z",
          "iopub.status.busy": "2023-04-07T19:07:21.407895Z",
          "iopub.status.idle": "2023-04-07T19:07:21.418457Z",
          "shell.execute_reply": "2023-04-07T19:07:21.417445Z"
        },
        "papermill": {
          "duration": 0.034627,
          "end_time": "2023-04-07T19:07:21.420864",
          "exception": false,
          "start_time": "2023-04-07T19:07:21.386237",
          "status": "completed"
        },
        "tags": [],
        "id": "ceb58d52",
        "outputId": "b0bf857a-07af-4c46-8d3d-6ceee5c8c1c5"
      },
      "outputs": [
        {
          "data": {
            "text/plain": [
              "PassengerId       0\n",
              "Survived        418\n",
              "Pclass            0\n",
              "Name              0\n",
              "Sex               0\n",
              "Age             263\n",
              "SibSp             0\n",
              "Parch             0\n",
              "Ticket            0\n",
              "Fare              1\n",
              "Cabin          1014\n",
              "Embarked          2\n",
              "dtype: int64"
            ]
          },
          "execution_count": 20,
          "metadata": {},
          "output_type": "execute_result"
        }
      ],
      "source": [
        "df.isnull().sum()"
      ]
    },
    {
      "cell_type": "code",
      "execution_count": null,
      "id": "1116bb22",
      "metadata": {
        "execution": {
          "iopub.execute_input": "2023-04-07T19:07:21.465572Z",
          "iopub.status.busy": "2023-04-07T19:07:21.464189Z",
          "iopub.status.idle": "2023-04-07T19:07:21.472139Z",
          "shell.execute_reply": "2023-04-07T19:07:21.470558Z"
        },
        "papermill": {
          "duration": 0.034007,
          "end_time": "2023-04-07T19:07:21.475825",
          "exception": false,
          "start_time": "2023-04-07T19:07:21.441818",
          "status": "completed"
        },
        "tags": [],
        "id": "1116bb22"
      },
      "outputs": [],
      "source": [
        "df = df.drop('Cabin', axis = 1)"
      ]
    },
    {
      "cell_type": "code",
      "execution_count": null,
      "id": "877d24c5",
      "metadata": {
        "execution": {
          "iopub.execute_input": "2023-04-07T19:07:21.519504Z",
          "iopub.status.busy": "2023-04-07T19:07:21.519045Z",
          "iopub.status.idle": "2023-04-07T19:07:21.526716Z",
          "shell.execute_reply": "2023-04-07T19:07:21.525581Z"
        },
        "papermill": {
          "duration": 0.032244,
          "end_time": "2023-04-07T19:07:21.529164",
          "exception": false,
          "start_time": "2023-04-07T19:07:21.496920",
          "status": "completed"
        },
        "tags": [],
        "id": "877d24c5"
      },
      "outputs": [],
      "source": [
        "# fill missing values using mean of the column\n",
        "\n",
        "df['Age'] = df['Age'].fillna(df['Age'].mean())\n",
        "df['Fare'] = df['Fare'].fillna(df['Fare'].mean())"
      ]
    },
    {
      "cell_type": "code",
      "execution_count": null,
      "id": "53d29605",
      "metadata": {
        "execution": {
          "iopub.execute_input": "2023-04-07T19:07:21.573298Z",
          "iopub.status.busy": "2023-04-07T19:07:21.572856Z",
          "iopub.status.idle": "2023-04-07T19:07:21.581561Z",
          "shell.execute_reply": "2023-04-07T19:07:21.579997Z"
        },
        "papermill": {
          "duration": 0.03425,
          "end_time": "2023-04-07T19:07:21.584398",
          "exception": false,
          "start_time": "2023-04-07T19:07:21.550148",
          "status": "completed"
        },
        "tags": [],
        "id": "53d29605",
        "outputId": "823e3c90-fda0-4b7d-8a75-330bc7c23b00"
      },
      "outputs": [
        {
          "data": {
            "text/plain": [
              "'S'"
            ]
          },
          "execution_count": 23,
          "metadata": {},
          "output_type": "execute_result"
        }
      ],
      "source": [
        "df['Embarked'].mode()[0]"
      ]
    },
    {
      "cell_type": "code",
      "execution_count": null,
      "id": "9df40981",
      "metadata": {
        "execution": {
          "iopub.execute_input": "2023-04-07T19:07:21.627847Z",
          "iopub.status.busy": "2023-04-07T19:07:21.627377Z",
          "iopub.status.idle": "2023-04-07T19:07:21.633739Z",
          "shell.execute_reply": "2023-04-07T19:07:21.632744Z"
        },
        "papermill": {
          "duration": 0.031057,
          "end_time": "2023-04-07T19:07:21.636135",
          "exception": false,
          "start_time": "2023-04-07T19:07:21.605078",
          "status": "completed"
        },
        "tags": [],
        "id": "9df40981"
      },
      "outputs": [],
      "source": [
        "df['Embarked'] = df['Embarked'].fillna(df['Embarked'].mode()[0])"
      ]
    },
    {
      "cell_type": "code",
      "execution_count": null,
      "id": "516b9170",
      "metadata": {
        "execution": {
          "iopub.execute_input": "2023-04-07T19:07:21.679896Z",
          "iopub.status.busy": "2023-04-07T19:07:21.679468Z",
          "iopub.status.idle": "2023-04-07T19:07:21.687205Z",
          "shell.execute_reply": "2023-04-07T19:07:21.685984Z"
        },
        "papermill": {
          "duration": 0.032263,
          "end_time": "2023-04-07T19:07:21.689632",
          "exception": false,
          "start_time": "2023-04-07T19:07:21.657369",
          "status": "completed"
        },
        "tags": [],
        "id": "516b9170"
      },
      "outputs": [],
      "source": [
        "df.dropna(inplace = True)"
      ]
    },
    {
      "cell_type": "code",
      "execution_count": null,
      "id": "5bd9079f",
      "metadata": {
        "execution": {
          "iopub.execute_input": "2023-04-07T19:07:21.734404Z",
          "iopub.status.busy": "2023-04-07T19:07:21.733129Z",
          "iopub.status.idle": "2023-04-07T19:07:21.743999Z",
          "shell.execute_reply": "2023-04-07T19:07:21.742633Z"
        },
        "papermill": {
          "duration": 0.03584,
          "end_time": "2023-04-07T19:07:21.746868",
          "exception": false,
          "start_time": "2023-04-07T19:07:21.711028",
          "status": "completed"
        },
        "tags": [],
        "id": "5bd9079f",
        "outputId": "e8260461-76c7-4939-aef2-bc6aa3566104"
      },
      "outputs": [
        {
          "data": {
            "text/plain": [
              "PassengerId    0\n",
              "Survived       0\n",
              "Pclass         0\n",
              "Name           0\n",
              "Sex            0\n",
              "Age            0\n",
              "SibSp          0\n",
              "Parch          0\n",
              "Ticket         0\n",
              "Fare           0\n",
              "Embarked       0\n",
              "dtype: int64"
            ]
          },
          "execution_count": 26,
          "metadata": {},
          "output_type": "execute_result"
        }
      ],
      "source": [
        "df.isnull().sum()"
      ]
    },
    {
      "cell_type": "markdown",
      "id": "d49d9807",
      "metadata": {
        "papermill": {
          "duration": 0.02068,
          "end_time": "2023-04-07T19:07:21.788450",
          "exception": false,
          "start_time": "2023-04-07T19:07:21.767770",
          "status": "completed"
        },
        "tags": [],
        "id": "d49d9807"
      },
      "source": [
        "## Log Transformation"
      ]
    },
    {
      "cell_type": "code",
      "execution_count": null,
      "id": "59125f76",
      "metadata": {
        "execution": {
          "iopub.execute_input": "2023-04-07T19:07:21.832390Z",
          "iopub.status.busy": "2023-04-07T19:07:21.831934Z",
          "iopub.status.idle": "2023-04-07T19:07:22.163994Z",
          "shell.execute_reply": "2023-04-07T19:07:22.162737Z"
        },
        "papermill": {
          "duration": 0.357315,
          "end_time": "2023-04-07T19:07:22.166730",
          "exception": false,
          "start_time": "2023-04-07T19:07:21.809415",
          "status": "completed"
        },
        "tags": [],
        "id": "59125f76",
        "outputId": "f69de596-1d85-47ed-f994-86e0513e808e"
      },
      "outputs": [
        {
          "name": "stderr",
          "output_type": "stream",
          "text": [
            "/opt/conda/lib/python3.7/site-packages/ipykernel_launcher.py:2: UserWarning: \n",
            "\n",
            "`distplot` is a deprecated function and will be removed in seaborn v0.14.0.\n",
            "\n",
            "Please adapt your code to use either `displot` (a figure-level function with\n",
            "similar flexibility) or `histplot` (an axes-level function for histograms).\n",
            "\n",
            "For a guide to updating your code to use the new functions, please see\n",
            "https://gist.github.com/mwaskom/de44147ed2974457ad6372750bbe5751\n",
            "\n",
            "  \n"
          ]
        },
        {
          "data": {
            "image/png": "[encoded data removed]",
            "text/plain": [
              "<Figure size 800x400 with 1 Axes>"
            ]
          },
          "metadata": {},
          "output_type": "display_data"
        }
      ],
      "source": [
        "plt.figure(figsize = (8,4))\n",
        "sns.distplot(df['Fare'])\n",
        "plt.show()"
      ]
    },
    {
      "cell_type": "code",
      "execution_count": null,
      "id": "9c98fb7f",
      "metadata": {
        "execution": {
          "iopub.execute_input": "2023-04-07T19:07:22.211727Z",
          "iopub.status.busy": "2023-04-07T19:07:22.210904Z",
          "iopub.status.idle": "2023-04-07T19:07:22.218309Z",
          "shell.execute_reply": "2023-04-07T19:07:22.217215Z"
        },
        "papermill": {
          "duration": 0.033151,
          "end_time": "2023-04-07T19:07:22.221027",
          "exception": false,
          "start_time": "2023-04-07T19:07:22.187876",
          "status": "completed"
        },
        "tags": [],
        "id": "9c98fb7f"
      },
      "outputs": [],
      "source": [
        "df['Fare'] = np.log(df['Fare'] + 1)"
      ]
    },
    {
      "cell_type": "code",
      "execution_count": null,
      "id": "850b0299",
      "metadata": {
        "execution": {
          "iopub.execute_input": "2023-04-07T19:07:22.265404Z",
          "iopub.status.busy": "2023-04-07T19:07:22.264182Z",
          "iopub.status.idle": "2023-04-07T19:07:22.584034Z",
          "shell.execute_reply": "2023-04-07T19:07:22.582750Z"
        },
        "papermill": {
          "duration": 0.344804,
          "end_time": "2023-04-07T19:07:22.586762",
          "exception": false,
          "start_time": "2023-04-07T19:07:22.241958",
          "status": "completed"
        },
        "tags": [],
        "id": "850b0299",
        "outputId": "fab26372-be79-46ed-ccd7-41c2e3b028c0"
      },
      "outputs": [
        {
          "name": "stderr",
          "output_type": "stream",
          "text": [
            "/opt/conda/lib/python3.7/site-packages/ipykernel_launcher.py:1: UserWarning: \n",
            "\n",
            "`distplot` is a deprecated function and will be removed in seaborn v0.14.0.\n",
            "\n",
            "Please adapt your code to use either `displot` (a figure-level function with\n",
            "similar flexibility) or `histplot` (an axes-level function for histograms).\n",
            "\n",
            "For a guide to updating your code to use the new functions, please see\n",
            "https://gist.github.com/mwaskom/de44147ed2974457ad6372750bbe5751\n",
            "\n",
            "  \"\"\"Entry point for launching an IPython kernel.\n"
          ]
        },
        {
          "data": {
            "text/plain": [
              "<AxesSubplot:xlabel='Fare', ylabel='Density'>"
            ]
          },
          "execution_count": 29,
          "metadata": {},
          "output_type": "execute_result"
        },
        {
          "data": {
            "image/png": "[encoded data removed]",
            "text/plain": [
              "<Figure size 640x480 with 1 Axes>"
            ]
          },
          "metadata": {},
          "output_type": "display_data"
        }
      ],
      "source": [
        "sns.distplot(df['Fare'])"
      ]
    },
    {
      "cell_type": "markdown",
      "id": "e5c02e7c",
      "metadata": {
        "papermill": {
          "duration": 0.021429,
          "end_time": "2023-04-07T19:07:22.629735",
          "exception": false,
          "start_time": "2023-04-07T19:07:22.608306",
          "status": "completed"
        },
        "tags": [],
        "id": "e5c02e7c"
      },
      "source": [
        "## Correlation Matrix"
      ]
    },
    {
      "cell_type": "code",
      "execution_count": null,
      "id": "0e835294",
      "metadata": {
        "execution": {
          "iopub.execute_input": "2023-04-07T19:07:22.674607Z",
          "iopub.status.busy": "2023-04-07T19:07:22.673985Z",
          "iopub.status.idle": "2023-04-07T19:07:23.317075Z",
          "shell.execute_reply": "2023-04-07T19:07:23.316115Z"
        },
        "papermill": {
          "duration": 0.668543,
          "end_time": "2023-04-07T19:07:23.319626",
          "exception": false,
          "start_time": "2023-04-07T19:07:22.651083",
          "status": "completed"
        },
        "tags": [],
        "id": "0e835294",
        "outputId": "df764455-6267-4ed5-ef88-7f49d9be1de2"
      },
      "outputs": [
        {
          "data": {
            "image/png": "[encoded data removed]",
            "text/plain": [
              "<Figure size 1500x900 with 2 Axes>"
            ]
          },
          "metadata": {},
          "output_type": "display_data"
        }
      ],
      "source": [
        "plt.figure(figsize = (15,9))\n",
        "sns.heatmap(df.corr(), annot = True, cmap = 'coolwarm')\n",
        "plt.show()"
      ]
    },
    {
      "cell_type": "code",
      "execution_count": null,
      "id": "7fbdd51f",
      "metadata": {
        "execution": {
          "iopub.execute_input": "2023-04-07T19:07:23.368162Z",
          "iopub.status.busy": "2023-04-07T19:07:23.366975Z",
          "iopub.status.idle": "2023-04-07T19:07:23.385083Z",
          "shell.execute_reply": "2023-04-07T19:07:23.383483Z"
        },
        "papermill": {
          "duration": 0.045202,
          "end_time": "2023-04-07T19:07:23.387926",
          "exception": false,
          "start_time": "2023-04-07T19:07:23.342724",
          "status": "completed"
        },
        "tags": [],
        "id": "7fbdd51f",
        "outputId": "40c3e701-916a-46a0-fce2-780b7ea67eb7"
      },
      "outputs": [
        {
          "data": {
            "text/html": [
              "<div>\n",
              "<style scoped>\n",
              "    .dataframe tbody tr th:only-of-type {\n",
              "        vertical-align: middle;\n",
              "    }\n",
              "\n",
              "    .dataframe tbody tr th {\n",
              "        vertical-align: top;\n",
              "    }\n",
              "\n",
              "    .dataframe thead th {\n",
              "        text-align: right;\n",
              "    }\n",
              "</style>\n",
              "<table border=\"1\" class=\"dataframe\">\n",
              "  <thead>\n",
              "    <tr style=\"text-align: right;\">\n",
              "      <th></th>\n",
              "      <th>PassengerId</th>\n",
              "      <th>Survived</th>\n",
              "      <th>Pclass</th>\n",
              "      <th>Name</th>\n",
              "      <th>Sex</th>\n",
              "      <th>Age</th>\n",
              "      <th>SibSp</th>\n",
              "      <th>Parch</th>\n",
              "      <th>Ticket</th>\n",
              "      <th>Fare</th>\n",
              "      <th>Embarked</th>\n",
              "    </tr>\n",
              "  </thead>\n",
              "  <tbody>\n",
              "    <tr>\n",
              "      <th>0</th>\n",
              "      <td>1</td>\n",
              "      <td>0.0</td>\n",
              "      <td>3</td>\n",
              "      <td>Braund, Mr. Owen Harris</td>\n",
              "      <td>male</td>\n",
              "      <td>22.0</td>\n",
              "      <td>1</td>\n",
              "      <td>0</td>\n",
              "      <td>A/5 21171</td>\n",
              "      <td>2.110213</td>\n",
              "      <td>S</td>\n",
              "    </tr>\n",
              "    <tr>\n",
              "      <th>1</th>\n",
              "      <td>2</td>\n",
              "      <td>1.0</td>\n",
              "      <td>1</td>\n",
              "      <td>Cumings, Mrs. John Bradley (Florence Briggs Th...</td>\n",
              "      <td>female</td>\n",
              "      <td>38.0</td>\n",
              "      <td>1</td>\n",
              "      <td>0</td>\n",
              "      <td>PC 17599</td>\n",
              "      <td>4.280593</td>\n",
              "      <td>C</td>\n",
              "    </tr>\n",
              "    <tr>\n",
              "      <th>2</th>\n",
              "      <td>3</td>\n",
              "      <td>1.0</td>\n",
              "      <td>3</td>\n",
              "      <td>Heikkinen, Miss. Laina</td>\n",
              "      <td>female</td>\n",
              "      <td>26.0</td>\n",
              "      <td>0</td>\n",
              "      <td>0</td>\n",
              "      <td>STON/O2. 3101282</td>\n",
              "      <td>2.188856</td>\n",
              "      <td>S</td>\n",
              "    </tr>\n",
              "    <tr>\n",
              "      <th>3</th>\n",
              "      <td>4</td>\n",
              "      <td>1.0</td>\n",
              "      <td>1</td>\n",
              "      <td>Futrelle, Mrs. Jacques Heath (Lily May Peel)</td>\n",
              "      <td>female</td>\n",
              "      <td>35.0</td>\n",
              "      <td>1</td>\n",
              "      <td>0</td>\n",
              "      <td>113803</td>\n",
              "      <td>3.990834</td>\n",
              "      <td>S</td>\n",
              "    </tr>\n",
              "    <tr>\n",
              "      <th>4</th>\n",
              "      <td>5</td>\n",
              "      <td>0.0</td>\n",
              "      <td>3</td>\n",
              "      <td>Allen, Mr. William Henry</td>\n",
              "      <td>male</td>\n",
              "      <td>35.0</td>\n",
              "      <td>0</td>\n",
              "      <td>0</td>\n",
              "      <td>373450</td>\n",
              "      <td>2.202765</td>\n",
              "      <td>S</td>\n",
              "    </tr>\n",
              "  </tbody>\n",
              "</table>\n",
              "</div>"
            ],
            "text/plain": [
              "   PassengerId  Survived  Pclass  \\\n",
              "0            1       0.0       3   \n",
              "1            2       1.0       1   \n",
              "2            3       1.0       3   \n",
              "3            4       1.0       1   \n",
              "4            5       0.0       3   \n",
              "\n",
              "                                                Name     Sex   Age  SibSp  \\\n",
              "0                            Braund, Mr. Owen Harris    male  22.0      1   \n",
              "1  Cumings, Mrs. John Bradley (Florence Briggs Th...  female  38.0      1   \n",
              "2                             Heikkinen, Miss. Laina  female  26.0      0   \n",
              "3       Futrelle, Mrs. Jacques Heath (Lily May Peel)  female  35.0      1   \n",
              "4                           Allen, Mr. William Henry    male  35.0      0   \n",
              "\n",
              "   Parch            Ticket      Fare Embarked  \n",
              "0      0         A/5 21171  2.110213        S  \n",
              "1      0          PC 17599  4.280593        C  \n",
              "2      0  STON/O2. 3101282  2.188856        S  \n",
              "3      0            113803  3.990834        S  \n",
              "4      0            373450  2.202765        S  "
            ]
          },
          "execution_count": 31,
          "metadata": {},
          "output_type": "execute_result"
        }
      ],
      "source": [
        "df.head()"
      ]
    },
    {
      "cell_type": "code",
      "execution_count": null,
      "id": "dbb89171",
      "metadata": {
        "execution": {
          "iopub.execute_input": "2023-04-07T19:07:23.439608Z",
          "iopub.status.busy": "2023-04-07T19:07:23.438702Z",
          "iopub.status.idle": "2023-04-07T19:07:23.445961Z",
          "shell.execute_reply": "2023-04-07T19:07:23.444671Z"
        },
        "papermill": {
          "duration": 0.036779,
          "end_time": "2023-04-07T19:07:23.448515",
          "exception": false,
          "start_time": "2023-04-07T19:07:23.411736",
          "status": "completed"
        },
        "tags": [],
        "id": "dbb89171"
      },
      "outputs": [],
      "source": [
        "df = df.drop(['Name','Ticket'], axis = 1)"
      ]
    },
    {
      "cell_type": "code",
      "execution_count": null,
      "id": "6d7b504b",
      "metadata": {
        "execution": {
          "iopub.execute_input": "2023-04-07T19:07:23.498165Z",
          "iopub.status.busy": "2023-04-07T19:07:23.497753Z",
          "iopub.status.idle": "2023-04-07T19:07:23.513989Z",
          "shell.execute_reply": "2023-04-07T19:07:23.512738Z"
        },
        "papermill": {
          "duration": 0.044418,
          "end_time": "2023-04-07T19:07:23.516516",
          "exception": false,
          "start_time": "2023-04-07T19:07:23.472098",
          "status": "completed"
        },
        "tags": [],
        "id": "6d7b504b",
        "outputId": "5b4ed490-224a-4fe7-995c-7450a6e89bf8"
      },
      "outputs": [
        {
          "data": {
            "text/html": [
              "<div>\n",
              "<style scoped>\n",
              "    .dataframe tbody tr th:only-of-type {\n",
              "        vertical-align: middle;\n",
              "    }\n",
              "\n",
              "    .dataframe tbody tr th {\n",
              "        vertical-align: top;\n",
              "    }\n",
              "\n",
              "    .dataframe thead th {\n",
              "        text-align: right;\n",
              "    }\n",
              "</style>\n",
              "<table border=\"1\" class=\"dataframe\">\n",
              "  <thead>\n",
              "    <tr style=\"text-align: right;\">\n",
              "      <th></th>\n",
              "      <th>PassengerId</th>\n",
              "      <th>Survived</th>\n",
              "      <th>Pclass</th>\n",
              "      <th>Sex</th>\n",
              "      <th>Age</th>\n",
              "      <th>SibSp</th>\n",
              "      <th>Parch</th>\n",
              "      <th>Fare</th>\n",
              "      <th>Embarked</th>\n",
              "    </tr>\n",
              "  </thead>\n",
              "  <tbody>\n",
              "    <tr>\n",
              "      <th>0</th>\n",
              "      <td>1</td>\n",
              "      <td>0.0</td>\n",
              "      <td>3</td>\n",
              "      <td>male</td>\n",
              "      <td>22.0</td>\n",
              "      <td>1</td>\n",
              "      <td>0</td>\n",
              "      <td>2.110213</td>\n",
              "      <td>S</td>\n",
              "    </tr>\n",
              "    <tr>\n",
              "      <th>1</th>\n",
              "      <td>2</td>\n",
              "      <td>1.0</td>\n",
              "      <td>1</td>\n",
              "      <td>female</td>\n",
              "      <td>38.0</td>\n",
              "      <td>1</td>\n",
              "      <td>0</td>\n",
              "      <td>4.280593</td>\n",
              "      <td>C</td>\n",
              "    </tr>\n",
              "    <tr>\n",
              "      <th>2</th>\n",
              "      <td>3</td>\n",
              "      <td>1.0</td>\n",
              "      <td>3</td>\n",
              "      <td>female</td>\n",
              "      <td>26.0</td>\n",
              "      <td>0</td>\n",
              "      <td>0</td>\n",
              "      <td>2.188856</td>\n",
              "      <td>S</td>\n",
              "    </tr>\n",
              "    <tr>\n",
              "      <th>3</th>\n",
              "      <td>4</td>\n",
              "      <td>1.0</td>\n",
              "      <td>1</td>\n",
              "      <td>female</td>\n",
              "      <td>35.0</td>\n",
              "      <td>1</td>\n",
              "      <td>0</td>\n",
              "      <td>3.990834</td>\n",
              "      <td>S</td>\n",
              "    </tr>\n",
              "    <tr>\n",
              "      <th>4</th>\n",
              "      <td>5</td>\n",
              "      <td>0.0</td>\n",
              "      <td>3</td>\n",
              "      <td>male</td>\n",
              "      <td>35.0</td>\n",
              "      <td>0</td>\n",
              "      <td>0</td>\n",
              "      <td>2.202765</td>\n",
              "      <td>S</td>\n",
              "    </tr>\n",
              "  </tbody>\n",
              "</table>\n",
              "</div>"
            ],
            "text/plain": [
              "   PassengerId  Survived  Pclass     Sex   Age  SibSp  Parch      Fare  \\\n",
              "0            1       0.0       3    male  22.0      1      0  2.110213   \n",
              "1            2       1.0       1  female  38.0      1      0  4.280593   \n",
              "2            3       1.0       3  female  26.0      0      0  2.188856   \n",
              "3            4       1.0       1  female  35.0      1      0  3.990834   \n",
              "4            5       0.0       3    male  35.0      0      0  2.202765   \n",
              "\n",
              "  Embarked  \n",
              "0        S  \n",
              "1        C  \n",
              "2        S  \n",
              "3        S  \n",
              "4        S  "
            ]
          },
          "execution_count": 33,
          "metadata": {},
          "output_type": "execute_result"
        }
      ],
      "source": [
        "df.head()"
      ]
    },
    {
      "cell_type": "markdown",
      "id": "059b6c42",
      "metadata": {
        "papermill": {
          "duration": 0.022934,
          "end_time": "2023-04-07T19:07:23.562557",
          "exception": false,
          "start_time": "2023-04-07T19:07:23.539623",
          "status": "completed"
        },
        "tags": [],
        "id": "059b6c42"
      },
      "source": [
        "## Label Encoding"
      ]
    },
    {
      "cell_type": "code",
      "execution_count": null,
      "id": "e11c1b69",
      "metadata": {
        "execution": {
          "iopub.execute_input": "2023-04-07T19:07:23.610897Z",
          "iopub.status.busy": "2023-04-07T19:07:23.610498Z",
          "iopub.status.idle": "2023-04-07T19:07:23.798645Z",
          "shell.execute_reply": "2023-04-07T19:07:23.797351Z"
        },
        "papermill": {
          "duration": 0.215707,
          "end_time": "2023-04-07T19:07:23.801259",
          "exception": false,
          "start_time": "2023-04-07T19:07:23.585552",
          "status": "completed"
        },
        "tags": [],
        "id": "e11c1b69",
        "outputId": "8c4a4ad5-2b77-4ae9-d406-d0f51f534c6b"
      },
      "outputs": [
        {
          "data": {
            "text/html": [
              "<div>\n",
              "<style scoped>\n",
              "    .dataframe tbody tr th:only-of-type {\n",
              "        vertical-align: middle;\n",
              "    }\n",
              "\n",
              "    .dataframe tbody tr th {\n",
              "        vertical-align: top;\n",
              "    }\n",
              "\n",
              "    .dataframe thead th {\n",
              "        text-align: right;\n",
              "    }\n",
              "</style>\n",
              "<table border=\"1\" class=\"dataframe\">\n",
              "  <thead>\n",
              "    <tr style=\"text-align: right;\">\n",
              "      <th></th>\n",
              "      <th>PassengerId</th>\n",
              "      <th>Survived</th>\n",
              "      <th>Pclass</th>\n",
              "      <th>Sex</th>\n",
              "      <th>Age</th>\n",
              "      <th>SibSp</th>\n",
              "      <th>Parch</th>\n",
              "      <th>Fare</th>\n",
              "      <th>Embarked</th>\n",
              "    </tr>\n",
              "  </thead>\n",
              "  <tbody>\n",
              "    <tr>\n",
              "      <th>0</th>\n",
              "      <td>1</td>\n",
              "      <td>0.0</td>\n",
              "      <td>3</td>\n",
              "      <td>1</td>\n",
              "      <td>22.0</td>\n",
              "      <td>1</td>\n",
              "      <td>0</td>\n",
              "      <td>2.110213</td>\n",
              "      <td>2</td>\n",
              "    </tr>\n",
              "    <tr>\n",
              "      <th>1</th>\n",
              "      <td>2</td>\n",
              "      <td>1.0</td>\n",
              "      <td>1</td>\n",
              "      <td>0</td>\n",
              "      <td>38.0</td>\n",
              "      <td>1</td>\n",
              "      <td>0</td>\n",
              "      <td>4.280593</td>\n",
              "      <td>0</td>\n",
              "    </tr>\n",
              "    <tr>\n",
              "      <th>2</th>\n",
              "      <td>3</td>\n",
              "      <td>1.0</td>\n",
              "      <td>3</td>\n",
              "      <td>0</td>\n",
              "      <td>26.0</td>\n",
              "      <td>0</td>\n",
              "      <td>0</td>\n",
              "      <td>2.188856</td>\n",
              "      <td>2</td>\n",
              "    </tr>\n",
              "    <tr>\n",
              "      <th>3</th>\n",
              "      <td>4</td>\n",
              "      <td>1.0</td>\n",
              "      <td>1</td>\n",
              "      <td>0</td>\n",
              "      <td>35.0</td>\n",
              "      <td>1</td>\n",
              "      <td>0</td>\n",
              "      <td>3.990834</td>\n",
              "      <td>2</td>\n",
              "    </tr>\n",
              "    <tr>\n",
              "      <th>4</th>\n",
              "      <td>5</td>\n",
              "      <td>0.0</td>\n",
              "      <td>3</td>\n",
              "      <td>1</td>\n",
              "      <td>35.0</td>\n",
              "      <td>0</td>\n",
              "      <td>0</td>\n",
              "      <td>2.202765</td>\n",
              "      <td>2</td>\n",
              "    </tr>\n",
              "  </tbody>\n",
              "</table>\n",
              "</div>"
            ],
            "text/plain": [
              "   PassengerId  Survived  Pclass  Sex   Age  SibSp  Parch      Fare  Embarked\n",
              "0            1       0.0       3    1  22.0      1      0  2.110213         2\n",
              "1            2       1.0       1    0  38.0      1      0  4.280593         0\n",
              "2            3       1.0       3    0  26.0      0      0  2.188856         2\n",
              "3            4       1.0       1    0  35.0      1      0  3.990834         2\n",
              "4            5       0.0       3    1  35.0      0      0  2.202765         2"
            ]
          },
          "execution_count": 34,
          "metadata": {},
          "output_type": "execute_result"
        }
      ],
      "source": [
        "from sklearn.preprocessing import LabelEncoder\n",
        "cols = ['Sex', 'Embarked']\n",
        "le = LabelEncoder()\n",
        "\n",
        "for col in cols:\n",
        "    df[col] = le.fit_transform(df[col])\n",
        "df.head()"
      ]
    },
    {
      "cell_type": "markdown",
      "id": "41cd7cd1",
      "metadata": {
        "papermill": {
          "duration": 0.023635,
          "end_time": "2023-04-07T19:07:23.848460",
          "exception": false,
          "start_time": "2023-04-07T19:07:23.824825",
          "status": "completed"
        },
        "tags": [],
        "id": "41cd7cd1"
      },
      "source": [
        "## Train - Test Split"
      ]
    },
    {
      "cell_type": "code",
      "execution_count": null,
      "id": "2a25972b",
      "metadata": {
        "execution": {
          "iopub.execute_input": "2023-04-07T19:07:23.898082Z",
          "iopub.status.busy": "2023-04-07T19:07:23.897671Z",
          "iopub.status.idle": "2023-04-07T19:07:23.902777Z",
          "shell.execute_reply": "2023-04-07T19:07:23.901664Z"
        },
        "papermill": {
          "duration": 0.032267,
          "end_time": "2023-04-07T19:07:23.904903",
          "exception": false,
          "start_time": "2023-04-07T19:07:23.872636",
          "status": "completed"
        },
        "tags": [],
        "id": "2a25972b"
      },
      "outputs": [],
      "source": [
        "train = df.iloc[:668,:]"
      ]
    },
    {
      "cell_type": "code",
      "execution_count": null,
      "id": "bf9a269f",
      "metadata": {
        "execution": {
          "iopub.execute_input": "2023-04-07T19:07:23.953785Z",
          "iopub.status.busy": "2023-04-07T19:07:23.953352Z",
          "iopub.status.idle": "2023-04-07T19:07:23.958750Z",
          "shell.execute_reply": "2023-04-07T19:07:23.957680Z"
        },
        "papermill": {
          "duration": 0.032961,
          "end_time": "2023-04-07T19:07:23.961215",
          "exception": false,
          "start_time": "2023-04-07T19:07:23.928254",
          "status": "completed"
        },
        "tags": [],
        "id": "bf9a269f"
      },
      "outputs": [],
      "source": [
        "test = df.iloc[668:,:]"
      ]
    },
    {
      "cell_type": "code",
      "execution_count": null,
      "id": "889cbb5e",
      "metadata": {
        "execution": {
          "iopub.execute_input": "2023-04-07T19:07:24.009973Z",
          "iopub.status.busy": "2023-04-07T19:07:24.009566Z",
          "iopub.status.idle": "2023-04-07T19:07:24.017029Z",
          "shell.execute_reply": "2023-04-07T19:07:24.015649Z"
        },
        "papermill": {
          "duration": 0.034637,
          "end_time": "2023-04-07T19:07:24.019365",
          "exception": false,
          "start_time": "2023-04-07T19:07:23.984728",
          "status": "completed"
        },
        "tags": [],
        "id": "889cbb5e",
        "outputId": "71f5a5a3-0664-4ea0-bdd0-a8c283f36115"
      },
      "outputs": [
        {
          "data": {
            "text/plain": [
              "891"
            ]
          },
          "execution_count": 37,
          "metadata": {},
          "output_type": "execute_result"
        }
      ],
      "source": [
        "len(df)"
      ]
    },
    {
      "cell_type": "code",
      "execution_count": null,
      "id": "8d0e265f",
      "metadata": {
        "execution": {
          "iopub.execute_input": "2023-04-07T19:07:24.069370Z",
          "iopub.status.busy": "2023-04-07T19:07:24.068911Z",
          "iopub.status.idle": "2023-04-07T19:07:24.083299Z",
          "shell.execute_reply": "2023-04-07T19:07:24.082026Z"
        },
        "papermill": {
          "duration": 0.042681,
          "end_time": "2023-04-07T19:07:24.085883",
          "exception": false,
          "start_time": "2023-04-07T19:07:24.043202",
          "status": "completed"
        },
        "tags": [],
        "id": "8d0e265f",
        "outputId": "f37d14f8-e90d-405f-cc09-e2625072e238"
      },
      "outputs": [
        {
          "data": {
            "text/html": [
              "<div>\n",
              "<style scoped>\n",
              "    .dataframe tbody tr th:only-of-type {\n",
              "        vertical-align: middle;\n",
              "    }\n",
              "\n",
              "    .dataframe tbody tr th {\n",
              "        vertical-align: top;\n",
              "    }\n",
              "\n",
              "    .dataframe thead th {\n",
              "        text-align: right;\n",
              "    }\n",
              "</style>\n",
              "<table border=\"1\" class=\"dataframe\">\n",
              "  <thead>\n",
              "    <tr style=\"text-align: right;\">\n",
              "      <th></th>\n",
              "      <th>PassengerId</th>\n",
              "      <th>Survived</th>\n",
              "      <th>Pclass</th>\n",
              "      <th>Sex</th>\n",
              "      <th>Age</th>\n",
              "      <th>SibSp</th>\n",
              "      <th>Parch</th>\n",
              "      <th>Fare</th>\n",
              "      <th>Embarked</th>\n",
              "    </tr>\n",
              "  </thead>\n",
              "  <tbody>\n",
              "    <tr>\n",
              "      <th>0</th>\n",
              "      <td>1</td>\n",
              "      <td>0.0</td>\n",
              "      <td>3</td>\n",
              "      <td>1</td>\n",
              "      <td>22.0</td>\n",
              "      <td>1</td>\n",
              "      <td>0</td>\n",
              "      <td>2.110213</td>\n",
              "      <td>2</td>\n",
              "    </tr>\n",
              "    <tr>\n",
              "      <th>1</th>\n",
              "      <td>2</td>\n",
              "      <td>1.0</td>\n",
              "      <td>1</td>\n",
              "      <td>0</td>\n",
              "      <td>38.0</td>\n",
              "      <td>1</td>\n",
              "      <td>0</td>\n",
              "      <td>4.280593</td>\n",
              "      <td>0</td>\n",
              "    </tr>\n",
              "    <tr>\n",
              "      <th>2</th>\n",
              "      <td>3</td>\n",
              "      <td>1.0</td>\n",
              "      <td>3</td>\n",
              "      <td>0</td>\n",
              "      <td>26.0</td>\n",
              "      <td>0</td>\n",
              "      <td>0</td>\n",
              "      <td>2.188856</td>\n",
              "      <td>2</td>\n",
              "    </tr>\n",
              "    <tr>\n",
              "      <th>3</th>\n",
              "      <td>4</td>\n",
              "      <td>1.0</td>\n",
              "      <td>1</td>\n",
              "      <td>0</td>\n",
              "      <td>35.0</td>\n",
              "      <td>1</td>\n",
              "      <td>0</td>\n",
              "      <td>3.990834</td>\n",
              "      <td>2</td>\n",
              "    </tr>\n",
              "    <tr>\n",
              "      <th>4</th>\n",
              "      <td>5</td>\n",
              "      <td>0.0</td>\n",
              "      <td>3</td>\n",
              "      <td>1</td>\n",
              "      <td>35.0</td>\n",
              "      <td>0</td>\n",
              "      <td>0</td>\n",
              "      <td>2.202765</td>\n",
              "      <td>2</td>\n",
              "    </tr>\n",
              "  </tbody>\n",
              "</table>\n",
              "</div>"
            ],
            "text/plain": [
              "   PassengerId  Survived  Pclass  Sex   Age  SibSp  Parch      Fare  Embarked\n",
              "0            1       0.0       3    1  22.0      1      0  2.110213         2\n",
              "1            2       1.0       1    0  38.0      1      0  4.280593         0\n",
              "2            3       1.0       3    0  26.0      0      0  2.188856         2\n",
              "3            4       1.0       1    0  35.0      1      0  3.990834         2\n",
              "4            5       0.0       3    1  35.0      0      0  2.202765         2"
            ]
          },
          "execution_count": 38,
          "metadata": {},
          "output_type": "execute_result"
        }
      ],
      "source": [
        "train.head()"
      ]
    },
    {
      "cell_type": "code",
      "execution_count": null,
      "id": "daa0fab0",
      "metadata": {
        "execution": {
          "iopub.execute_input": "2023-04-07T19:07:24.136679Z",
          "iopub.status.busy": "2023-04-07T19:07:24.135552Z",
          "iopub.status.idle": "2023-04-07T19:07:24.150680Z",
          "shell.execute_reply": "2023-04-07T19:07:24.149770Z"
        },
        "papermill": {
          "duration": 0.043124,
          "end_time": "2023-04-07T19:07:24.152924",
          "exception": false,
          "start_time": "2023-04-07T19:07:24.109800",
          "status": "completed"
        },
        "tags": [],
        "id": "daa0fab0",
        "outputId": "3af6b4d5-0571-4dcc-807a-22d036623356"
      },
      "outputs": [
        {
          "data": {
            "text/html": [
              "<div>\n",
              "<style scoped>\n",
              "    .dataframe tbody tr th:only-of-type {\n",
              "        vertical-align: middle;\n",
              "    }\n",
              "\n",
              "    .dataframe tbody tr th {\n",
              "        vertical-align: top;\n",
              "    }\n",
              "\n",
              "    .dataframe thead th {\n",
              "        text-align: right;\n",
              "    }\n",
              "</style>\n",
              "<table border=\"1\" class=\"dataframe\">\n",
              "  <thead>\n",
              "    <tr style=\"text-align: right;\">\n",
              "      <th></th>\n",
              "      <th>PassengerId</th>\n",
              "      <th>Survived</th>\n",
              "      <th>Pclass</th>\n",
              "      <th>Sex</th>\n",
              "      <th>Age</th>\n",
              "      <th>SibSp</th>\n",
              "      <th>Parch</th>\n",
              "      <th>Fare</th>\n",
              "      <th>Embarked</th>\n",
              "    </tr>\n",
              "  </thead>\n",
              "  <tbody>\n",
              "    <tr>\n",
              "      <th>668</th>\n",
              "      <td>669</td>\n",
              "      <td>0.0</td>\n",
              "      <td>3</td>\n",
              "      <td>1</td>\n",
              "      <td>43.000000</td>\n",
              "      <td>0</td>\n",
              "      <td>0</td>\n",
              "      <td>2.202765</td>\n",
              "      <td>2</td>\n",
              "    </tr>\n",
              "    <tr>\n",
              "      <th>669</th>\n",
              "      <td>670</td>\n",
              "      <td>1.0</td>\n",
              "      <td>1</td>\n",
              "      <td>0</td>\n",
              "      <td>29.881138</td>\n",
              "      <td>1</td>\n",
              "      <td>0</td>\n",
              "      <td>3.970292</td>\n",
              "      <td>2</td>\n",
              "    </tr>\n",
              "    <tr>\n",
              "      <th>670</th>\n",
              "      <td>671</td>\n",
              "      <td>1.0</td>\n",
              "      <td>2</td>\n",
              "      <td>0</td>\n",
              "      <td>40.000000</td>\n",
              "      <td>1</td>\n",
              "      <td>1</td>\n",
              "      <td>3.688879</td>\n",
              "      <td>2</td>\n",
              "    </tr>\n",
              "    <tr>\n",
              "      <th>671</th>\n",
              "      <td>672</td>\n",
              "      <td>0.0</td>\n",
              "      <td>1</td>\n",
              "      <td>1</td>\n",
              "      <td>31.000000</td>\n",
              "      <td>1</td>\n",
              "      <td>0</td>\n",
              "      <td>3.970292</td>\n",
              "      <td>2</td>\n",
              "    </tr>\n",
              "    <tr>\n",
              "      <th>672</th>\n",
              "      <td>673</td>\n",
              "      <td>0.0</td>\n",
              "      <td>2</td>\n",
              "      <td>1</td>\n",
              "      <td>70.000000</td>\n",
              "      <td>0</td>\n",
              "      <td>0</td>\n",
              "      <td>2.442347</td>\n",
              "      <td>2</td>\n",
              "    </tr>\n",
              "  </tbody>\n",
              "</table>\n",
              "</div>"
            ],
            "text/plain": [
              "     PassengerId  Survived  Pclass  Sex        Age  SibSp  Parch      Fare  \\\n",
              "668          669       0.0       3    1  43.000000      0      0  2.202765   \n",
              "669          670       1.0       1    0  29.881138      1      0  3.970292   \n",
              "670          671       1.0       2    0  40.000000      1      1  3.688879   \n",
              "671          672       0.0       1    1  31.000000      1      0  3.970292   \n",
              "672          673       0.0       2    1  70.000000      0      0  2.442347   \n",
              "\n",
              "     Embarked  \n",
              "668         2  \n",
              "669         2  \n",
              "670         2  \n",
              "671         2  \n",
              "672         2  "
            ]
          },
          "execution_count": 39,
          "metadata": {},
          "output_type": "execute_result"
        }
      ],
      "source": [
        "test.head()"
      ]
    },
    {
      "cell_type": "code",
      "execution_count": null,
      "id": "ee669b4f",
      "metadata": {
        "execution": {
          "iopub.execute_input": "2023-04-07T19:07:24.202646Z",
          "iopub.status.busy": "2023-04-07T19:07:24.202212Z",
          "iopub.status.idle": "2023-04-07T19:07:24.209157Z",
          "shell.execute_reply": "2023-04-07T19:07:24.207803Z"
        },
        "papermill": {
          "duration": 0.035132,
          "end_time": "2023-04-07T19:07:24.211825",
          "exception": false,
          "start_time": "2023-04-07T19:07:24.176693",
          "status": "completed"
        },
        "tags": [],
        "id": "ee669b4f"
      },
      "outputs": [],
      "source": [
        "x = df.drop(['PassengerId','Survived'],axis = 1)\n",
        "y = df['Survived']"
      ]
    },
    {
      "cell_type": "code",
      "execution_count": null,
      "id": "fb5352fb",
      "metadata": {
        "execution": {
          "iopub.execute_input": "2023-04-07T19:07:24.261809Z",
          "iopub.status.busy": "2023-04-07T19:07:24.261378Z",
          "iopub.status.idle": "2023-04-07T19:07:24.266502Z",
          "shell.execute_reply": "2023-04-07T19:07:24.265225Z"
        },
        "papermill": {
          "duration": 0.03315,
          "end_time": "2023-04-07T19:07:24.269018",
          "exception": false,
          "start_time": "2023-04-07T19:07:24.235868",
          "status": "completed"
        },
        "tags": [],
        "id": "fb5352fb"
      },
      "outputs": [],
      "source": [
        "train_len = len(train)"
      ]
    },
    {
      "cell_type": "code",
      "execution_count": null,
      "id": "eb1ed9b1",
      "metadata": {
        "execution": {
          "iopub.execute_input": "2023-04-07T19:07:24.318789Z",
          "iopub.status.busy": "2023-04-07T19:07:24.318090Z",
          "iopub.status.idle": "2023-04-07T19:07:24.331956Z",
          "shell.execute_reply": "2023-04-07T19:07:24.330766Z"
        },
        "papermill": {
          "duration": 0.041572,
          "end_time": "2023-04-07T19:07:24.334403",
          "exception": false,
          "start_time": "2023-04-07T19:07:24.292831",
          "status": "completed"
        },
        "tags": [],
        "id": "eb1ed9b1",
        "outputId": "57e355f0-d50a-441d-8d0e-fcf4934198f6"
      },
      "outputs": [
        {
          "data": {
            "text/html": [
              "<div>\n",
              "<style scoped>\n",
              "    .dataframe tbody tr th:only-of-type {\n",
              "        vertical-align: middle;\n",
              "    }\n",
              "\n",
              "    .dataframe tbody tr th {\n",
              "        vertical-align: top;\n",
              "    }\n",
              "\n",
              "    .dataframe thead th {\n",
              "        text-align: right;\n",
              "    }\n",
              "</style>\n",
              "<table border=\"1\" class=\"dataframe\">\n",
              "  <thead>\n",
              "    <tr style=\"text-align: right;\">\n",
              "      <th></th>\n",
              "      <th>Pclass</th>\n",
              "      <th>Sex</th>\n",
              "      <th>Age</th>\n",
              "      <th>SibSp</th>\n",
              "      <th>Parch</th>\n",
              "      <th>Fare</th>\n",
              "      <th>Embarked</th>\n",
              "    </tr>\n",
              "  </thead>\n",
              "  <tbody>\n",
              "    <tr>\n",
              "      <th>0</th>\n",
              "      <td>3</td>\n",
              "      <td>1</td>\n",
              "      <td>22.0</td>\n",
              "      <td>1</td>\n",
              "      <td>0</td>\n",
              "      <td>2.110213</td>\n",
              "      <td>2</td>\n",
              "    </tr>\n",
              "    <tr>\n",
              "      <th>1</th>\n",
              "      <td>1</td>\n",
              "      <td>0</td>\n",
              "      <td>38.0</td>\n",
              "      <td>1</td>\n",
              "      <td>0</td>\n",
              "      <td>4.280593</td>\n",
              "      <td>0</td>\n",
              "    </tr>\n",
              "    <tr>\n",
              "      <th>2</th>\n",
              "      <td>3</td>\n",
              "      <td>0</td>\n",
              "      <td>26.0</td>\n",
              "      <td>0</td>\n",
              "      <td>0</td>\n",
              "      <td>2.188856</td>\n",
              "      <td>2</td>\n",
              "    </tr>\n",
              "    <tr>\n",
              "      <th>3</th>\n",
              "      <td>1</td>\n",
              "      <td>0</td>\n",
              "      <td>35.0</td>\n",
              "      <td>1</td>\n",
              "      <td>0</td>\n",
              "      <td>3.990834</td>\n",
              "      <td>2</td>\n",
              "    </tr>\n",
              "    <tr>\n",
              "      <th>4</th>\n",
              "      <td>3</td>\n",
              "      <td>1</td>\n",
              "      <td>35.0</td>\n",
              "      <td>0</td>\n",
              "      <td>0</td>\n",
              "      <td>2.202765</td>\n",
              "      <td>2</td>\n",
              "    </tr>\n",
              "  </tbody>\n",
              "</table>\n",
              "</div>"
            ],
            "text/plain": [
              "   Pclass  Sex   Age  SibSp  Parch      Fare  Embarked\n",
              "0       3    1  22.0      1      0  2.110213         2\n",
              "1       1    0  38.0      1      0  4.280593         0\n",
              "2       3    0  26.0      0      0  2.188856         2\n",
              "3       1    0  35.0      1      0  3.990834         2\n",
              "4       3    1  35.0      0      0  2.202765         2"
            ]
          },
          "execution_count": 42,
          "metadata": {},
          "output_type": "execute_result"
        }
      ],
      "source": [
        "x.head()"
      ]
    },
    {
      "cell_type": "code",
      "execution_count": null,
      "id": "6f47df22",
      "metadata": {
        "execution": {
          "iopub.execute_input": "2023-04-07T19:07:24.385882Z",
          "iopub.status.busy": "2023-04-07T19:07:24.385426Z",
          "iopub.status.idle": "2023-04-07T19:07:24.393926Z",
          "shell.execute_reply": "2023-04-07T19:07:24.392600Z"
        },
        "papermill": {
          "duration": 0.037596,
          "end_time": "2023-04-07T19:07:24.396477",
          "exception": false,
          "start_time": "2023-04-07T19:07:24.358881",
          "status": "completed"
        },
        "tags": [],
        "id": "6f47df22",
        "outputId": "bd4beaca-16c7-4c78-edec-94e5eb59e064"
      },
      "outputs": [
        {
          "data": {
            "text/plain": [
              "0"
            ]
          },
          "execution_count": 43,
          "metadata": {},
          "output_type": "execute_result"
        }
      ],
      "source": [
        "y.isnull().sum()"
      ]
    },
    {
      "cell_type": "markdown",
      "id": "90598b45",
      "metadata": {
        "papermill": {
          "duration": 0.024436,
          "end_time": "2023-04-07T19:07:24.445247",
          "exception": false,
          "start_time": "2023-04-07T19:07:24.420811",
          "status": "completed"
        },
        "tags": [],
        "id": "90598b45"
      },
      "source": [
        "## Model Training"
      ]
    },
    {
      "cell_type": "code",
      "execution_count": null,
      "id": "76508ce4",
      "metadata": {
        "execution": {
          "iopub.execute_input": "2023-04-07T19:07:24.496655Z",
          "iopub.status.busy": "2023-04-07T19:07:24.495932Z",
          "iopub.status.idle": "2023-04-07T19:07:24.570954Z",
          "shell.execute_reply": "2023-04-07T19:07:24.569619Z"
        },
        "papermill": {
          "duration": 0.103869,
          "end_time": "2023-04-07T19:07:24.574062",
          "exception": false,
          "start_time": "2023-04-07T19:07:24.470193",
          "status": "completed"
        },
        "tags": [],
        "id": "76508ce4"
      },
      "outputs": [],
      "source": [
        "from sklearn.model_selection import train_test_split, cross_val_score\n",
        "\n",
        "def classify(model):\n",
        "    x_train, x_test, y_train, y_test = train_test_split(x,y,test_size = 0.25, random_state = 42)\n",
        "    model.fit(x_train, y_train)\n",
        "    print('Accuracy: ', model.score(x_test, y_test))\n",
        "    \n",
        "    score = cross_val_score(model,x,y, cv = 5)\n",
        "    print('CV Score: ', np.mean(score))"
      ]
    },
    {
      "cell_type": "code",
      "execution_count": null,
      "id": "be7c5d87",
      "metadata": {
        "execution": {
          "iopub.execute_input": "2023-04-07T19:07:24.625728Z",
          "iopub.status.busy": "2023-04-07T19:07:24.624429Z",
          "iopub.status.idle": "2023-04-07T19:07:24.926174Z",
          "shell.execute_reply": "2023-04-07T19:07:24.924519Z"
        },
        "papermill": {
          "duration": 0.330085,
          "end_time": "2023-04-07T19:07:24.928664",
          "exception": false,
          "start_time": "2023-04-07T19:07:24.598579",
          "status": "completed"
        },
        "tags": [],
        "id": "be7c5d87",
        "outputId": "338cd666-f8a2-48f7-9c3c-8fd9dc69e3cc"
      },
      "outputs": [
        {
          "name": "stdout",
          "output_type": "stream",
          "text": [
            "Accuracy:  0.7309417040358744\n",
            "CV Score:  0.7688469022660221\n"
          ]
        }
      ],
      "source": [
        "from sklearn.tree import DecisionTreeClassifier\n",
        "model = DecisionTreeClassifier()\n",
        "classify(model)"
      ]
    },
    {
      "cell_type": "code",
      "execution_count": null,
      "id": "60cbe958",
      "metadata": {
        "execution": {
          "iopub.execute_input": "2023-04-07T19:07:24.979388Z",
          "iopub.status.busy": "2023-04-07T19:07:24.978661Z",
          "iopub.status.idle": "2023-04-07T19:07:26.367499Z",
          "shell.execute_reply": "2023-04-07T19:07:26.365567Z"
        },
        "papermill": {
          "duration": 1.418225,
          "end_time": "2023-04-07T19:07:26.370952",
          "exception": false,
          "start_time": "2023-04-07T19:07:24.952727",
          "status": "completed"
        },
        "tags": [],
        "id": "60cbe958",
        "outputId": "430ae497-f1ec-4c07-cb27-782f81272a13"
      },
      "outputs": [
        {
          "name": "stdout",
          "output_type": "stream",
          "text": [
            "Accuracy:  0.8026905829596412\n",
            "CV Score:  0.8081162513338773\n"
          ]
        }
      ],
      "source": [
        "from sklearn.ensemble import RandomForestClassifier\n",
        "model = RandomForestClassifier()\n",
        "classify(model)"
      ]
    },
    {
      "cell_type": "code",
      "execution_count": null,
      "id": "77caf4c4",
      "metadata": {
        "execution": {
          "iopub.execute_input": "2023-04-07T19:07:26.429036Z",
          "iopub.status.busy": "2023-04-07T19:07:26.428625Z",
          "iopub.status.idle": "2023-04-07T19:07:28.395509Z",
          "shell.execute_reply": "2023-04-07T19:07:28.394363Z"
        },
        "papermill": {
          "duration": 2.002556,
          "end_time": "2023-04-07T19:07:28.398543",
          "exception": false,
          "start_time": "2023-04-07T19:07:26.395987",
          "status": "completed"
        },
        "tags": [],
        "id": "77caf4c4",
        "outputId": "cd701765-c338-4122-a804-b1ad1ac8ecb6"
      },
      "outputs": [
        {
          "name": "stdout",
          "output_type": "stream",
          "text": [
            "Accuracy:  0.7892376681614349\n",
            "CV Score:  0.8125980792166217\n"
          ]
        }
      ],
      "source": [
        "from xgboost import XGBClassifier\n",
        "model = XGBClassifier()\n",
        "classify(model)"
      ]
    },
    {
      "cell_type": "code",
      "execution_count": null,
      "id": "7c1c16b0",
      "metadata": {
        "execution": {
          "iopub.execute_input": "2023-04-07T19:07:28.452640Z",
          "iopub.status.busy": "2023-04-07T19:07:28.452203Z",
          "iopub.status.idle": "2023-04-07T19:07:32.756558Z",
          "shell.execute_reply": "2023-04-07T19:07:32.754889Z"
        },
        "papermill": {
          "duration": 4.334364,
          "end_time": "2023-04-07T19:07:32.759261",
          "exception": false,
          "start_time": "2023-04-07T19:07:28.424897",
          "status": "completed"
        },
        "tags": [],
        "id": "7c1c16b0",
        "outputId": "68040a4f-e366-4e74-ac2c-2e868584c722"
      },
      "outputs": [
        {
          "data": {
            "text/html": [
              "<style type='text/css'>\n",
              ".datatable table.frame { margin-bottom: 0; }\n",
              ".datatable table.frame thead { border-bottom: none; }\n",
              ".datatable table.frame tr.coltypes td {  color: #FFFFFF;  line-height: 6px;  padding: 0 0.5em;}\n",
              ".datatable .bool    { background: #DDDD99; }\n",
              ".datatable .object  { background: #565656; }\n",
              ".datatable .int     { background: #5D9E5D; }\n",
              ".datatable .float   { background: #4040CC; }\n",
              ".datatable .str     { background: #CC4040; }\n",
              ".datatable .time    { background: #40CC40; }\n",
              ".datatable .row_index {  background: var(--jp-border-color3);  border-right: 1px solid var(--jp-border-color0);  color: var(--jp-ui-font-color3);  font-size: 9px;}\n",
              ".datatable .frame tbody td { text-align: left; }\n",
              ".datatable .frame tr.coltypes .row_index {  background: var(--jp-border-color0);}\n",
              ".datatable th:nth-child(2) { padding-left: 12px; }\n",
              ".datatable .hellipsis {  color: var(--jp-cell-editor-border-color);}\n",
              ".datatable .vellipsis {  background: var(--jp-layout-color0);  color: var(--jp-cell-editor-border-color);}\n",
              ".datatable .na {  color: var(--jp-cell-editor-border-color);  font-size: 80%;}\n",
              ".datatable .sp {  opacity: 0.25;}\n",
              ".datatable .footer { font-size: 9px; }\n",
              ".datatable .frame_dimensions {  background: var(--jp-border-color3);  border-top: 1px solid var(--jp-border-color0);  color: var(--jp-ui-font-color3);  display: inline-block;  opacity: 0.6;  padding: 1px 10px 1px 5px;}\n",
              "</style>\n"
            ],
            "text/plain": [
              "<IPython.core.display.HTML object>"
            ]
          },
          "metadata": {},
          "output_type": "display_data"
        },
        {
          "name": "stdout",
          "output_type": "stream",
          "text": [
            "Accuracy:  0.8116591928251121\n",
            "CV Score:  0.8238277572029377\n"
          ]
        }
      ],
      "source": [
        "from lightgbm import LGBMClassifier\n",
        "model = LGBMClassifier()\n",
        "classify(model)"
      ]
    },
    {
      "cell_type": "code",
      "execution_count": null,
      "id": "cec42153",
      "metadata": {
        "execution": {
          "iopub.execute_input": "2023-04-07T19:07:32.812346Z",
          "iopub.status.busy": "2023-04-07T19:07:32.811653Z",
          "iopub.status.idle": "2023-04-07T19:07:41.278221Z",
          "shell.execute_reply": "2023-04-07T19:07:41.277215Z"
        },
        "papermill": {
          "duration": 8.496264,
          "end_time": "2023-04-07T19:07:41.281091",
          "exception": false,
          "start_time": "2023-04-07T19:07:32.784827",
          "status": "completed"
        },
        "tags": [],
        "id": "cec42153",
        "outputId": "119ded33-bd41-4a86-a2ca-f5fa5cef4818"
      },
      "outputs": [
        {
          "name": "stdout",
          "output_type": "stream",
          "text": [
            "Accuracy:  0.8295964125560538\n",
            "CV Score:  0.8226790534178645\n"
          ]
        }
      ],
      "source": [
        "from catboost import CatBoostClassifier\n",
        "model = CatBoostClassifier(verbose = 0)\n",
        "classify(model)"
      ]
    },
    {
      "cell_type": "markdown",
      "id": "949f060c",
      "metadata": {
        "papermill": {
          "duration": 0.026257,
          "end_time": "2023-04-07T19:07:41.332746",
          "exception": false,
          "start_time": "2023-04-07T19:07:41.306489",
          "status": "completed"
        },
        "tags": [],
        "id": "949f060c"
      },
      "source": [
        "## Complete model training with full data "
      ]
    },
    {
      "cell_type": "code",
      "execution_count": null,
      "id": "81936bda",
      "metadata": {
        "execution": {
          "iopub.execute_input": "2023-04-07T19:07:41.385627Z",
          "iopub.status.busy": "2023-04-07T19:07:41.384824Z",
          "iopub.status.idle": "2023-04-07T19:07:41.973712Z",
          "shell.execute_reply": "2023-04-07T19:07:41.972525Z"
        },
        "papermill": {
          "duration": 0.618382,
          "end_time": "2023-04-07T19:07:41.976418",
          "exception": false,
          "start_time": "2023-04-07T19:07:41.358036",
          "status": "completed"
        },
        "tags": [],
        "id": "81936bda",
        "outputId": "28e68a33-2cbc-4df0-8fd7-d27f256abf61"
      },
      "outputs": [
        {
          "data": {
            "text/plain": [
              "LGBMClassifier()"
            ]
          },
          "execution_count": 50,
          "metadata": {},
          "output_type": "execute_result"
        }
      ],
      "source": [
        "model = LGBMClassifier()\n",
        "model.fit(x,y)"
      ]
    },
    {
      "cell_type": "code",
      "execution_count": null,
      "id": "528ef6d8",
      "metadata": {
        "execution": {
          "iopub.execute_input": "2023-04-07T19:07:42.029774Z",
          "iopub.status.busy": "2023-04-07T19:07:42.029358Z",
          "iopub.status.idle": "2023-04-07T19:07:42.036180Z",
          "shell.execute_reply": "2023-04-07T19:07:42.034751Z"
        },
        "papermill": {
          "duration": 0.037404,
          "end_time": "2023-04-07T19:07:42.038827",
          "exception": false,
          "start_time": "2023-04-07T19:07:42.001423",
          "status": "completed"
        },
        "tags": [],
        "id": "528ef6d8"
      },
      "outputs": [],
      "source": [
        "x_test = test.drop(['PassengerId','Survived'] ,axis = 1)"
      ]
    },
    {
      "cell_type": "code",
      "execution_count": null,
      "id": "4b1b57e4",
      "metadata": {
        "execution": {
          "iopub.execute_input": "2023-04-07T19:07:42.092626Z",
          "iopub.status.busy": "2023-04-07T19:07:42.091809Z",
          "iopub.status.idle": "2023-04-07T19:07:42.104930Z",
          "shell.execute_reply": "2023-04-07T19:07:42.103660Z"
        },
        "papermill": {
          "duration": 0.042907,
          "end_time": "2023-04-07T19:07:42.107456",
          "exception": false,
          "start_time": "2023-04-07T19:07:42.064549",
          "status": "completed"
        },
        "tags": [],
        "id": "4b1b57e4",
        "outputId": "20a06582-6f17-4a88-bb37-2d8fb8d89ef6"
      },
      "outputs": [
        {
          "data": {
            "text/html": [
              "<div>\n",
              "<style scoped>\n",
              "    .dataframe tbody tr th:only-of-type {\n",
              "        vertical-align: middle;\n",
              "    }\n",
              "\n",
              "    .dataframe tbody tr th {\n",
              "        vertical-align: top;\n",
              "    }\n",
              "\n",
              "    .dataframe thead th {\n",
              "        text-align: right;\n",
              "    }\n",
              "</style>\n",
              "<table border=\"1\" class=\"dataframe\">\n",
              "  <thead>\n",
              "    <tr style=\"text-align: right;\">\n",
              "      <th></th>\n",
              "      <th>Pclass</th>\n",
              "      <th>Sex</th>\n",
              "      <th>Age</th>\n",
              "      <th>SibSp</th>\n",
              "      <th>Parch</th>\n",
              "      <th>Fare</th>\n",
              "      <th>Embarked</th>\n",
              "    </tr>\n",
              "  </thead>\n",
              "  <tbody>\n",
              "    <tr>\n",
              "      <th>668</th>\n",
              "      <td>3</td>\n",
              "      <td>1</td>\n",
              "      <td>43.000000</td>\n",
              "      <td>0</td>\n",
              "      <td>0</td>\n",
              "      <td>2.202765</td>\n",
              "      <td>2</td>\n",
              "    </tr>\n",
              "    <tr>\n",
              "      <th>669</th>\n",
              "      <td>1</td>\n",
              "      <td>0</td>\n",
              "      <td>29.881138</td>\n",
              "      <td>1</td>\n",
              "      <td>0</td>\n",
              "      <td>3.970292</td>\n",
              "      <td>2</td>\n",
              "    </tr>\n",
              "    <tr>\n",
              "      <th>670</th>\n",
              "      <td>2</td>\n",
              "      <td>0</td>\n",
              "      <td>40.000000</td>\n",
              "      <td>1</td>\n",
              "      <td>1</td>\n",
              "      <td>3.688879</td>\n",
              "      <td>2</td>\n",
              "    </tr>\n",
              "    <tr>\n",
              "      <th>671</th>\n",
              "      <td>1</td>\n",
              "      <td>1</td>\n",
              "      <td>31.000000</td>\n",
              "      <td>1</td>\n",
              "      <td>0</td>\n",
              "      <td>3.970292</td>\n",
              "      <td>2</td>\n",
              "    </tr>\n",
              "    <tr>\n",
              "      <th>672</th>\n",
              "      <td>2</td>\n",
              "      <td>1</td>\n",
              "      <td>70.000000</td>\n",
              "      <td>0</td>\n",
              "      <td>0</td>\n",
              "      <td>2.442347</td>\n",
              "      <td>2</td>\n",
              "    </tr>\n",
              "  </tbody>\n",
              "</table>\n",
              "</div>"
            ],
            "text/plain": [
              "     Pclass  Sex        Age  SibSp  Parch      Fare  Embarked\n",
              "668       3    1  43.000000      0      0  2.202765         2\n",
              "669       1    0  29.881138      1      0  3.970292         2\n",
              "670       2    0  40.000000      1      1  3.688879         2\n",
              "671       1    1  31.000000      1      0  3.970292         2\n",
              "672       2    1  70.000000      0      0  2.442347         2"
            ]
          },
          "execution_count": 52,
          "metadata": {},
          "output_type": "execute_result"
        }
      ],
      "source": [
        "x_test.head()"
      ]
    },
    {
      "cell_type": "code",
      "execution_count": null,
      "id": "08544ef6",
      "metadata": {
        "execution": {
          "iopub.execute_input": "2023-04-07T19:07:42.163035Z",
          "iopub.status.busy": "2023-04-07T19:07:42.162205Z",
          "iopub.status.idle": "2023-04-07T19:07:42.168898Z",
          "shell.execute_reply": "2023-04-07T19:07:42.167674Z"
        },
        "papermill": {
          "duration": 0.037545,
          "end_time": "2023-04-07T19:07:42.171694",
          "exception": false,
          "start_time": "2023-04-07T19:07:42.134149",
          "status": "completed"
        },
        "tags": [],
        "id": "08544ef6"
      },
      "outputs": [],
      "source": [
        "x_test = test.drop(['PassengerId', 'Survived'], axis = 1)"
      ]
    },
    {
      "cell_type": "code",
      "execution_count": null,
      "id": "36671820",
      "metadata": {
        "execution": {
          "iopub.execute_input": "2023-04-07T19:07:42.227660Z",
          "iopub.status.busy": "2023-04-07T19:07:42.227202Z",
          "iopub.status.idle": "2023-04-07T19:07:42.243622Z",
          "shell.execute_reply": "2023-04-07T19:07:42.242202Z"
        },
        "papermill": {
          "duration": 0.048249,
          "end_time": "2023-04-07T19:07:42.246839",
          "exception": false,
          "start_time": "2023-04-07T19:07:42.198590",
          "status": "completed"
        },
        "tags": [],
        "id": "36671820",
        "outputId": "3395f37c-0bc2-47b1-fe64-bd0d090d08d2"
      },
      "outputs": [
        {
          "data": {
            "text/html": [
              "<div>\n",
              "<style scoped>\n",
              "    .dataframe tbody tr th:only-of-type {\n",
              "        vertical-align: middle;\n",
              "    }\n",
              "\n",
              "    .dataframe tbody tr th {\n",
              "        vertical-align: top;\n",
              "    }\n",
              "\n",
              "    .dataframe thead th {\n",
              "        text-align: right;\n",
              "    }\n",
              "</style>\n",
              "<table border=\"1\" class=\"dataframe\">\n",
              "  <thead>\n",
              "    <tr style=\"text-align: right;\">\n",
              "      <th></th>\n",
              "      <th>Pclass</th>\n",
              "      <th>Sex</th>\n",
              "      <th>Age</th>\n",
              "      <th>SibSp</th>\n",
              "      <th>Parch</th>\n",
              "      <th>Fare</th>\n",
              "      <th>Embarked</th>\n",
              "    </tr>\n",
              "  </thead>\n",
              "  <tbody>\n",
              "    <tr>\n",
              "      <th>668</th>\n",
              "      <td>3</td>\n",
              "      <td>1</td>\n",
              "      <td>43.000000</td>\n",
              "      <td>0</td>\n",
              "      <td>0</td>\n",
              "      <td>2.202765</td>\n",
              "      <td>2</td>\n",
              "    </tr>\n",
              "    <tr>\n",
              "      <th>669</th>\n",
              "      <td>1</td>\n",
              "      <td>0</td>\n",
              "      <td>29.881138</td>\n",
              "      <td>1</td>\n",
              "      <td>0</td>\n",
              "      <td>3.970292</td>\n",
              "      <td>2</td>\n",
              "    </tr>\n",
              "    <tr>\n",
              "      <th>670</th>\n",
              "      <td>2</td>\n",
              "      <td>0</td>\n",
              "      <td>40.000000</td>\n",
              "      <td>1</td>\n",
              "      <td>1</td>\n",
              "      <td>3.688879</td>\n",
              "      <td>2</td>\n",
              "    </tr>\n",
              "    <tr>\n",
              "      <th>671</th>\n",
              "      <td>1</td>\n",
              "      <td>1</td>\n",
              "      <td>31.000000</td>\n",
              "      <td>1</td>\n",
              "      <td>0</td>\n",
              "      <td>3.970292</td>\n",
              "      <td>2</td>\n",
              "    </tr>\n",
              "    <tr>\n",
              "      <th>672</th>\n",
              "      <td>2</td>\n",
              "      <td>1</td>\n",
              "      <td>70.000000</td>\n",
              "      <td>0</td>\n",
              "      <td>0</td>\n",
              "      <td>2.442347</td>\n",
              "      <td>2</td>\n",
              "    </tr>\n",
              "  </tbody>\n",
              "</table>\n",
              "</div>"
            ],
            "text/plain": [
              "     Pclass  Sex        Age  SibSp  Parch      Fare  Embarked\n",
              "668       3    1  43.000000      0      0  2.202765         2\n",
              "669       1    0  29.881138      1      0  3.970292         2\n",
              "670       2    0  40.000000      1      1  3.688879         2\n",
              "671       1    1  31.000000      1      0  3.970292         2\n",
              "672       2    1  70.000000      0      0  2.442347         2"
            ]
          },
          "execution_count": 54,
          "metadata": {},
          "output_type": "execute_result"
        }
      ],
      "source": [
        "x_test.head()"
      ]
    },
    {
      "cell_type": "code",
      "execution_count": null,
      "id": "7970c3e4",
      "metadata": {
        "execution": {
          "iopub.execute_input": "2023-04-07T19:07:42.302700Z",
          "iopub.status.busy": "2023-04-07T19:07:42.301737Z",
          "iopub.status.idle": "2023-04-07T19:07:42.316134Z",
          "shell.execute_reply": "2023-04-07T19:07:42.314844Z"
        },
        "papermill": {
          "duration": 0.045868,
          "end_time": "2023-04-07T19:07:42.318586",
          "exception": false,
          "start_time": "2023-04-07T19:07:42.272718",
          "status": "completed"
        },
        "tags": [],
        "id": "7970c3e4",
        "outputId": "47a6c72b-aa7e-4dd8-f081-2efb7077c7e0"
      },
      "outputs": [
        {
          "data": {
            "text/plain": [
              "array([0., 1., 1., 0., 0., 1., 0., 0., 0., 1., 0., 1., 0., 1., 0., 0., 0.,\n",
              "       0., 0., 0., 0., 1., 1., 1., 1., 0., 0., 0., 0., 1., 0., 0., 1., 1.,\n",
              "       0., 0., 0., 0., 1., 1., 1., 1., 1., 1., 0., 0., 0., 0., 1., 1., 0.,\n",
              "       0., 1., 0., 0., 0., 1., 0., 1., 1., 0., 0., 1., 0., 0., 0., 0., 0.,\n",
              "       0., 1., 0., 0., 1., 0., 1., 0., 1., 0., 0., 1., 0., 0., 1., 1., 0.,\n",
              "       0., 1., 1., 0., 0., 0., 1., 0., 0., 1., 1., 0., 1., 0., 0., 0., 0.,\n",
              "       0., 0., 1., 0., 1., 0., 0., 1., 0., 1., 1., 1., 1., 0., 0., 0., 1.,\n",
              "       0., 1., 0., 0., 0., 0., 0., 0., 0., 1., 1., 0., 0., 0., 1., 1., 1.,\n",
              "       1., 0., 0., 0., 0., 1., 0., 0., 0., 0., 0., 0., 0., 0., 0., 0., 1.,\n",
              "       1., 0., 1., 0., 0., 1., 1., 0., 1., 0., 1., 0., 0., 0., 1., 0., 0.,\n",
              "       1., 0., 0., 0., 1., 0., 0., 0., 0., 0., 0., 1., 0., 0., 0., 1., 1.,\n",
              "       1., 1., 1., 1., 0., 0., 0., 1., 0., 0., 1., 1., 0., 0., 1., 0., 1.,\n",
              "       0., 0., 1., 1., 0., 0., 0., 1., 1., 0., 0., 0., 0., 0., 0., 1., 0.,\n",
              "       1., 0.])"
            ]
          },
          "execution_count": 55,
          "metadata": {},
          "output_type": "execute_result"
        }
      ],
      "source": [
        "pred = model.predict(x_test)\n",
        "pred"
      ]
    },
    {
      "cell_type": "markdown",
      "id": "e61fc594",
      "metadata": {
        "papermill": {
          "duration": 0.02603,
          "end_time": "2023-04-07T19:07:42.371961",
          "exception": false,
          "start_time": "2023-04-07T19:07:42.345931",
          "status": "completed"
        },
        "tags": [],
        "id": "e61fc594"
      },
      "source": [
        "## Test Submission"
      ]
    },
    {
      "cell_type": "code",
      "execution_count": null,
      "id": "37930504",
      "metadata": {
        "execution": {
          "iopub.execute_input": "2023-04-07T19:07:42.426238Z",
          "iopub.status.busy": "2023-04-07T19:07:42.425133Z",
          "iopub.status.idle": "2023-04-07T19:07:42.444626Z",
          "shell.execute_reply": "2023-04-07T19:07:42.443708Z"
        },
        "papermill": {
          "duration": 0.048995,
          "end_time": "2023-04-07T19:07:42.447188",
          "exception": false,
          "start_time": "2023-04-07T19:07:42.398193",
          "status": "completed"
        },
        "tags": [],
        "id": "37930504"
      },
      "outputs": [],
      "source": [
        "sub = pd.read_csv('/kaggle/input/titanic/gender_submission.csv')"
      ]
    },
    {
      "cell_type": "code",
      "execution_count": null,
      "id": "b00c7f67",
      "metadata": {
        "execution": {
          "iopub.execute_input": "2023-04-07T19:07:42.502758Z",
          "iopub.status.busy": "2023-04-07T19:07:42.501513Z",
          "iopub.status.idle": "2023-04-07T19:07:42.513205Z",
          "shell.execute_reply": "2023-04-07T19:07:42.511981Z"
        },
        "papermill": {
          "duration": 0.041792,
          "end_time": "2023-04-07T19:07:42.515851",
          "exception": false,
          "start_time": "2023-04-07T19:07:42.474059",
          "status": "completed"
        },
        "tags": [],
        "id": "b00c7f67",
        "outputId": "a47297f3-de50-4d00-f7eb-922a92e8472d"
      },
      "outputs": [
        {
          "data": {
            "text/html": [
              "<div>\n",
              "<style scoped>\n",
              "    .dataframe tbody tr th:only-of-type {\n",
              "        vertical-align: middle;\n",
              "    }\n",
              "\n",
              "    .dataframe tbody tr th {\n",
              "        vertical-align: top;\n",
              "    }\n",
              "\n",
              "    .dataframe thead th {\n",
              "        text-align: right;\n",
              "    }\n",
              "</style>\n",
              "<table border=\"1\" class=\"dataframe\">\n",
              "  <thead>\n",
              "    <tr style=\"text-align: right;\">\n",
              "      <th></th>\n",
              "      <th>PassengerId</th>\n",
              "      <th>Survived</th>\n",
              "    </tr>\n",
              "  </thead>\n",
              "  <tbody>\n",
              "    <tr>\n",
              "      <th>413</th>\n",
              "      <td>1305</td>\n",
              "      <td>0</td>\n",
              "    </tr>\n",
              "    <tr>\n",
              "      <th>414</th>\n",
              "      <td>1306</td>\n",
              "      <td>1</td>\n",
              "    </tr>\n",
              "    <tr>\n",
              "      <th>415</th>\n",
              "      <td>1307</td>\n",
              "      <td>0</td>\n",
              "    </tr>\n",
              "    <tr>\n",
              "      <th>416</th>\n",
              "      <td>1308</td>\n",
              "      <td>0</td>\n",
              "    </tr>\n",
              "    <tr>\n",
              "      <th>417</th>\n",
              "      <td>1309</td>\n",
              "      <td>0</td>\n",
              "    </tr>\n",
              "  </tbody>\n",
              "</table>\n",
              "</div>"
            ],
            "text/plain": [
              "     PassengerId  Survived\n",
              "413         1305         0\n",
              "414         1306         1\n",
              "415         1307         0\n",
              "416         1308         0\n",
              "417         1309         0"
            ]
          },
          "execution_count": 57,
          "metadata": {},
          "output_type": "execute_result"
        }
      ],
      "source": [
        "sub.tail()"
      ]
    },
    {
      "cell_type": "code",
      "execution_count": null,
      "id": "ace4172e",
      "metadata": {
        "execution": {
          "iopub.execute_input": "2023-04-07T19:07:42.569585Z",
          "iopub.status.busy": "2023-04-07T19:07:42.569025Z",
          "iopub.status.idle": "2023-04-07T19:07:42.577293Z",
          "shell.execute_reply": "2023-04-07T19:07:42.576008Z"
        },
        "papermill": {
          "duration": 0.038092,
          "end_time": "2023-04-07T19:07:42.579795",
          "exception": false,
          "start_time": "2023-04-07T19:07:42.541703",
          "status": "completed"
        },
        "tags": [],
        "id": "ace4172e"
      },
      "outputs": [],
      "source": [
        "sub['Survived'][:223] = pred\n",
        "sub['Survived'] = sub['Survived'].astype('int')"
      ]
    },
    {
      "cell_type": "code",
      "execution_count": null,
      "id": "7c817f02",
      "metadata": {
        "execution": {
          "iopub.execute_input": "2023-04-07T19:07:42.633245Z",
          "iopub.status.busy": "2023-04-07T19:07:42.632797Z",
          "iopub.status.idle": "2023-04-07T19:07:42.643637Z",
          "shell.execute_reply": "2023-04-07T19:07:42.642339Z"
        },
        "papermill": {
          "duration": 0.040425,
          "end_time": "2023-04-07T19:07:42.645984",
          "exception": false,
          "start_time": "2023-04-07T19:07:42.605559",
          "status": "completed"
        },
        "tags": [],
        "id": "7c817f02",
        "outputId": "8d88d9bd-5e43-4014-86e7-b1322b13d377"
      },
      "outputs": [
        {
          "data": {
            "text/html": [
              "<div>\n",
              "<style scoped>\n",
              "    .dataframe tbody tr th:only-of-type {\n",
              "        vertical-align: middle;\n",
              "    }\n",
              "\n",
              "    .dataframe tbody tr th {\n",
              "        vertical-align: top;\n",
              "    }\n",
              "\n",
              "    .dataframe thead th {\n",
              "        text-align: right;\n",
              "    }\n",
              "</style>\n",
              "<table border=\"1\" class=\"dataframe\">\n",
              "  <thead>\n",
              "    <tr style=\"text-align: right;\">\n",
              "      <th></th>\n",
              "      <th>PassengerId</th>\n",
              "      <th>Survived</th>\n",
              "    </tr>\n",
              "  </thead>\n",
              "  <tbody>\n",
              "    <tr>\n",
              "      <th>0</th>\n",
              "      <td>892</td>\n",
              "      <td>0</td>\n",
              "    </tr>\n",
              "    <tr>\n",
              "      <th>1</th>\n",
              "      <td>893</td>\n",
              "      <td>1</td>\n",
              "    </tr>\n",
              "    <tr>\n",
              "      <th>2</th>\n",
              "      <td>894</td>\n",
              "      <td>1</td>\n",
              "    </tr>\n",
              "    <tr>\n",
              "      <th>3</th>\n",
              "      <td>895</td>\n",
              "      <td>0</td>\n",
              "    </tr>\n",
              "    <tr>\n",
              "      <th>4</th>\n",
              "      <td>896</td>\n",
              "      <td>0</td>\n",
              "    </tr>\n",
              "  </tbody>\n",
              "</table>\n",
              "</div>"
            ],
            "text/plain": [
              "   PassengerId  Survived\n",
              "0          892         0\n",
              "1          893         1\n",
              "2          894         1\n",
              "3          895         0\n",
              "4          896         0"
            ]
          },
          "execution_count": 59,
          "metadata": {},
          "output_type": "execute_result"
        }
      ],
      "source": [
        "sub.head()"
      ]
    },
    {
      "cell_type": "code",
      "execution_count": null,
      "id": "41862001",
      "metadata": {
        "execution": {
          "iopub.execute_input": "2023-04-07T19:07:42.700397Z",
          "iopub.status.busy": "2023-04-07T19:07:42.699163Z",
          "iopub.status.idle": "2023-04-07T19:07:42.711090Z",
          "shell.execute_reply": "2023-04-07T19:07:42.709665Z"
        },
        "papermill": {
          "duration": 0.042056,
          "end_time": "2023-04-07T19:07:42.713983",
          "exception": false,
          "start_time": "2023-04-07T19:07:42.671927",
          "status": "completed"
        },
        "tags": [],
        "id": "41862001"
      },
      "outputs": [],
      "source": [
        "sub.to_csv(\"Submission.csv\", index = False)"
      ]
    }
  ],
  "metadata": {
    "kernelspec": {
      "display_name": "Python 3",
      "language": "python",
      "name": "python3"
    },
    "language_info": {
      "codemirror_mode": {
        "name": "ipython",
        "version": 3
      },
      "file_extension": ".py",
      "mimetype": "text/x-python",
      "name": "python",
      "nbconvert_exporter": "python",
      "pygments_lexer": "ipython3",
      "version": "3.7.12"
    },
    "papermill": {
      "default_parameters": {},
      "duration": 40.250259,
      "end_time": "2023-04-07T19:07:43.664526",
      "environment_variables": {},
      "exception": null,
      "input_path": "__notebook__.ipynb",
      "output_path": "__notebook__.ipynb",
      "parameters": {},
      "start_time": "2023-04-07T19:07:03.414267",
      "version": "2.4.0"
    },
    "colab": {
      "provenance": [],
      "include_colab_link": true
    }
  },
  "nbformat": 4,
  "nbformat_minor": 5
}